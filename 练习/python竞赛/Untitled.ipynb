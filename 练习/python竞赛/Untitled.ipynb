{
 "cells": [
  {
   "cell_type": "code",
   "execution_count": 1,
   "metadata": {},
   "outputs": [],
   "source": [
    "import pandas as pd"
   ]
  },
  {
   "cell_type": "code",
   "execution_count": 7,
   "metadata": {},
   "outputs": [
    {
     "name": "stdout",
     "output_type": "stream",
     "text": [
      "        date  txVolume(USD)  adjustedTxVolume(USD)  txCount  marketcap(USD)  \\\n",
      "0 2017-07-23            NaN                    NaN      NaN             0.0   \n",
      "1 2017-07-24            NaN                    NaN      NaN             0.0   \n",
      "2 2017-07-25            NaN                    NaN      NaN             0.0   \n",
      "3 2017-07-26            NaN                    NaN      NaN             0.0   \n",
      "4 2017-07-27            NaN                    NaN      NaN             0.0   \n",
      "\n",
      "   price(USD)  exchangeVolume(USD)  realizedCap(USD)  generatedCoins  fees  \\\n",
      "0      555.89              85013.0               NaN             NaN   NaN   \n",
      "1      412.58             190952.0               NaN             NaN   NaN   \n",
      "2      441.35             524908.0               NaN             NaN   NaN   \n",
      "3      407.08            1784640.0               NaN             NaN   NaN   \n",
      "4      417.10             533207.0               NaN             NaN   NaN   \n",
      "\n",
      "   activeAddresses  averageDifficulty  paymentCount  medianTxValue(USD)  \\\n",
      "0              NaN                NaN           NaN                 NaN   \n",
      "1              NaN                NaN           NaN                 NaN   \n",
      "2              NaN                NaN           NaN                 NaN   \n",
      "3              NaN                NaN           NaN                 NaN   \n",
      "4              NaN                NaN           NaN                 NaN   \n",
      "\n",
      "   medianFee  blockSize  blockCount  \n",
      "0        NaN        NaN         NaN  \n",
      "1        NaN        NaN         NaN  \n",
      "2        NaN        NaN         NaN  \n",
      "3        NaN        NaN         NaN  \n",
      "4        NaN        NaN         NaN  \n"
     ]
    }
   ],
   "source": [
    "df=pd.read_excel('bch.xlsx')#这个会直接默认读取到这个Excel的第一个表单\n",
    "data=df.head()#默认读取前5行的数据\n",
    "print(data)#格式化输出"
   ]
  },
  {
   "cell_type": "code",
   "execution_count": null,
   "metadata": {},
   "outputs": [],
   "source": []
  }
 ],
 "metadata": {
  "kernelspec": {
   "display_name": "Python 3",
   "language": "python",
   "name": "python3"
  }
 },
 "nbformat": 4,
 "nbformat_minor": 2
}
