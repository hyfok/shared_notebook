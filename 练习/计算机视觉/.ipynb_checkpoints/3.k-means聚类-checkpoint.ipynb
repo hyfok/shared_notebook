{
 "cells": [
  {
   "cell_type": "code",
   "execution_count": 1,
   "metadata": {},
   "outputs": [],
   "source": [
    "import cv2\n",
    "import numpy as np\n",
    "import matplotlib.pyplot as plt\n",
    "%matplotlib inline"
   ]
  },
  {
   "cell_type": "code",
   "execution_count": 153,
   "metadata": {},
   "outputs": [],
   "source": [
    "def my_k_means(src, center, itera = 1000, threshold = 0.01):\n",
    "    np.random.seed(19)\n",
    "    centers = np.random.random_sample((center, len(src[0])))\n",
    "    for i in range(itera):\n",
    "        calc = np.array([(sum((src[i]-centers[j])**2)) for i in range(len(src)) for j in range(center)])\n",
    "        calc = calc.reshape(len(src), center)\n",
    "        _,calc_index = np.where(calc == (calc.min(axis = 1)).reshape(-1,1))\n",
    "        for j in range(center):\n",
    "            centers[j] = src[calc_index == j].mean(axis=0)\n",
    "    return centers"
   ]
  }
 ],
 "metadata": {
  "kernelspec": {
   "display_name": "Python 3",
   "language": "python",
   "name": "python3"
  },
  "language_info": {
   "codemirror_mode": {
    "name": "ipython",
    "version": 3
   },
   "file_extension": ".py",
   "mimetype": "text/x-python",
   "name": "python",
   "nbconvert_exporter": "python",
   "pygments_lexer": "ipython3",
   "version": "3.6.7"
  }
 },
 "nbformat": 4,
 "nbformat_minor": 2
}
