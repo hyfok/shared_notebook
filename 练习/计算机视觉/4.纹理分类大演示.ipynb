{
 "cells": [
  {
   "cell_type": "markdown",
   "metadata": {},
   "source": [
    "# 方法介绍\n",
    "- 样本选择：bubbly stratified veined 三类纹理每类 120 个，共 360 个样本\n",
    "\n",
    "- 训练数据：随机 300 个样本\n",
    "\n",
    "- 测试数据：随机 60 个样本\n",
    "\n",
    "- 特征选取：hog 8100 维特征\n",
    "\n",
    "- 分类器：\n",
    "    1.k_nn（自己写的）选取 `[1, 5, 7, 9, 11, 13, 15]` 共 8 个不同的 k 值进行测试\n",
    "    \n",
    "    2.svm（调用sklearn） 选取 `['linear', 'sigmoid', 'poly', 'rbf']`\n",
    "    \n",
    "    共 4 个不同的核函数作为可调节超参\n",
    "        \n",
    "- 评估指标：精确率(Accuracy)，准确率(precision)，召回率(recall)，混淆矩阵\n",
    "\n",
    "# 函数(或类)介绍\n",
    "\n",
    "- `my_knn()`:有 `train_data` `labels` `result` 三个属性, \n",
    "\n",
    "    `fit(self, train_data, train_labels)` `predict(self, test_data, k)` \n",
    "    \n",
    "    `score(self, labels)` 三个方法。\n",
    "- `confusion_and_probability_matrix(scores, predict_result, tru_labels)`:\n",
    "\n",
    "    生成混淆矩阵和准确率以及召回率。\n",
    "- `train_svm(X_train, y_train,kenrel)`:训练svm分类器，返回svm分类器实例。\n",
    "\n",
    "- `score_svm(svm, X, y)`:返回精确率。"
   ]
  },
  {
   "cell_type": "code",
   "execution_count": 1,
   "metadata": {},
   "outputs": [],
   "source": [
    "# 导入各种必须的包\n",
    "import cv2\n",
    "import numpy as np\n",
    "import matplotlib.pyplot as plt\n",
    "%matplotlib inline\n",
    "plt.style.use('ggplot')"
   ]
  },
  {
   "cell_type": "code",
   "execution_count": 2,
   "metadata": {},
   "outputs": [],
   "source": [
    "bubbly_img = []\n",
    "stratified_img = []\n",
    "veined_img = []\n",
    "texture_bubbly_dir = 'texture\\\\bubbly'\n",
    "texture_stratified_dir = 'texture\\\\stratified'\n",
    "texture_veined_dir = 'texture\\\\veined'"
   ]
  },
  {
   "cell_type": "code",
   "execution_count": 3,
   "metadata": {},
   "outputs": [
    {
     "data": {
      "text/plain": [
       "120"
      ]
     },
     "execution_count": 3,
     "metadata": {},
     "output_type": "execute_result"
    }
   ],
   "source": [
    "for i in range(200):\n",
    "    img = cv2.imread(texture_bubbly_dir+'\\\\bubbly_%04d.jpg'%(i),0)\n",
    "    if not str(type(img)) == \"<class 'NoneType'>\":\n",
    "        bubbly_img.append(img)\n",
    "len(bubbly_img)# 导入120张 bubbly"
   ]
  },
  {
   "cell_type": "code",
   "execution_count": 4,
   "metadata": {},
   "outputs": [
    {
     "data": {
      "text/plain": [
       "120"
      ]
     },
     "execution_count": 4,
     "metadata": {},
     "output_type": "execute_result"
    }
   ],
   "source": [
    "for i in range(200):\n",
    "    img = cv2.imread(texture_stratified_dir+'\\\\stratified_%04d.jpg'%(i),0)\n",
    "    if not str(type(img)) == \"<class 'NoneType'>\":\n",
    "        stratified_img.append(img)\n",
    "len(stratified_img)# 导入120张 stratified"
   ]
  },
  {
   "cell_type": "code",
   "execution_count": 5,
   "metadata": {},
   "outputs": [
    {
     "data": {
      "text/plain": [
       "120"
      ]
     },
     "execution_count": 5,
     "metadata": {},
     "output_type": "execute_result"
    }
   ],
   "source": [
    "for i in range(200):\n",
    "    img = cv2.imread(texture_veined_dir+'\\\\veined_%04d.jpg'%(i),0)\n",
    "    if not str(type(img)) == \"<class 'NoneType'>\":\n",
    "        veined_img.append(img)\n",
    "len(veined_img)# 导入120张 veined"
   ]
  },
  {
   "cell_type": "code",
   "execution_count": 6,
   "metadata": {},
   "outputs": [],
   "source": [
    "# my_knn类定义\n",
    "class my_knn():\n",
    "    def __init__(self): # 无形参初始化\n",
    "        self.train_data = np.zeros(0)\n",
    "        self.labels = np.zeros(0)\n",
    "        self.result = np.zeros(0)\n",
    "    def fit(self, train_data, train_labels): \n",
    "        # 导入训练数据，其中 train_data.shape 格式为(样本数, 特征数)，\n",
    "        # train_label.shape 格式为(样本数)\n",
    "        self.train_data = train_data\n",
    "        self.labels = train_labels\n",
    "    def predict(self, test_data, k): # 预测方法，返回预测标签\n",
    "        predict_labels = np.zeros((test_data.shape[0])) \n",
    "        for i in range(test_data.shape[0]):\n",
    "            distance = np.sum(np.square(test_data[i]-self.train_data),axis=1) \n",
    "            # 计算每个测试数据点与所有训练点的欧式距离\n",
    "            indices = np.argsort(distance) # 对计算出的所有距离排序\n",
    "            result = self.labels[indices][:k] # 提取排序后前 k 个训练点的标签\n",
    "            predict_labels[i] = np.argmax(np.bincount(result)) \n",
    "            # 选择标签类最多的作为预测标签\n",
    "        self.result = predict_labels\n",
    "        return predict_labels\n",
    "    def score(self, labels):\n",
    "        return np.sum(self.result == labels)/labels.shape[0] # 精确率评分函数"
   ]
  },
  {
   "cell_type": "code",
   "execution_count": 7,
   "metadata": {},
   "outputs": [],
   "source": [
    "# 定义 hog 特征，计算得有 8100 维的特征\n",
    "win_size = (256, 256)\n",
    "block_size = (32, 32)\n",
    "block_stride = (16, 16)\n",
    "cell_size = (16, 16)\n",
    "num_bins = 9\n",
    "hog = cv2.HOGDescriptor(win_size, block_size, block_stride,\n",
    "                        cell_size, num_bins)"
   ]
  },
  {
   "cell_type": "code",
   "execution_count": 8,
   "metadata": {},
   "outputs": [
    {
     "data": {
      "text/plain": [
       "((360, 256, 256), (360, 8100), (360, 81), (360,))"
      ]
     },
     "execution_count": 8,
     "metadata": {},
     "output_type": "execute_result"
    }
   ],
   "source": [
    "# 此部分为转换图片的 shape 并生成 hog 特征，以及打乱排列顺序\n",
    "bubbly_img_shaped = np.array([cv2.resize(i,(256,256)) for i in bubbly_img])\n",
    "stratified_img_shaped = np.array([cv2.resize(i,(256,256)) for i in stratified_img])\n",
    "veined_img_shaped = np.array([cv2.resize(i,(256,256)) for i in veined_img])\n",
    "all_img_data = np.concatenate((bubbly_img_shaped, stratified_img_shaped, \n",
    "                               veined_img_shaped))\n",
    "all_img_labels = np.concatenate((np.ones((bubbly_img_shaped.shape[0]),\n",
    "                        dtype=np.int32)*0,np.ones((stratified_img_shaped.shape[0]),\n",
    "                        dtype=np.int32)*1,np.ones((veined_img_shaped.shape[0]),\n",
    "                        dtype=np.int32)*2))\n",
    "all_img_hog = \\\n",
    "np.array([hog.compute(i) for i in all_img_data]).reshape(all_img_data.shape[0],-1)\n",
    "rate = 100\n",
    "all_img_hog_mixed = np.array([np.mean(i[j*rate:j*rate+rate]) \n",
    "                              for i in all_img_hog \n",
    "                              for j in range(i.shape[0]//rate)]).reshape(360,-1)\n",
    "indices = np.arange(all_img_data.shape[0])\n",
    "np.random.seed(8888)\n",
    "np.random.shuffle(indices)\n",
    "all_img_data = all_img_data[indices]\n",
    "all_img_hog = all_img_hog[indices]\n",
    "all_img_hog_mixed = all_img_hog_mixed[indices]\n",
    "all_img_labels = all_img_labels[indices]\n",
    "all_img_data.shape, all_img_hog.shape, all_img_hog_mixed.shape, all_img_labels.shape"
   ]
  },
  {
   "cell_type": "code",
   "execution_count": 9,
   "metadata": {},
   "outputs": [
    {
     "data": {
      "text/plain": [
       "1.0"
      ]
     },
     "execution_count": 9,
     "metadata": {},
     "output_type": "execute_result"
    }
   ],
   "source": [
    "# 这部分用于验证 my_knn 的正确性，将 k 设置为 1，用所有数据训练和测试，\n",
    "# 得到 1.0 的精确率，即每个点都离自身最近，验证得算法正确\n",
    "classify_model = my_knn()\n",
    "classify_model.fit(all_img_hog, all_img_labels)\n",
    "a = classify_model.predict(all_img_hog, 1)\n",
    "classify_model.score(all_img_labels)"
   ]
  },
  {
   "cell_type": "code",
   "execution_count": 10,
   "metadata": {},
   "outputs": [
    {
     "data": {
      "text/plain": [
       "array([0.7       , 0.68333333, 0.73333333, 0.76666667, 0.78333333,\n",
       "       0.76666667, 0.75      , 0.73333333])"
      ]
     },
     "execution_count": 10,
     "metadata": {},
     "output_type": "execute_result"
    },
    {
     "data": {
      "image/png": "[encoded data removed]",
      "text/plain": [
       "<Figure size 576x288 with 1 Axes>"
      ]
     },
     "metadata": {
      "needs_background": "light"
     },
     "output_type": "display_data"
    }
   ],
   "source": [
    "# 绘制不同 k 下的模型在 60 个测试集上的精确率曲线，matplotlab可视化,\n",
    "# 可以看出 k=9 时有 0.783 的精确率\n",
    "classify_model = my_knn()\n",
    "plt.figure(figsize=(8,4))\n",
    "n = np.array([1,3,5,7,9,11,13,15])\n",
    "predict_knn = np.zeros((n.shape[0],60))\n",
    "scores_knn = np.zeros((n.shape[0]))\n",
    "for idx,nn in enumerate(n):\n",
    "    classify_model.fit(all_img_hog[:300], all_img_labels[:300])\n",
    "    predict_knn[idx] = classify_model.predict(all_img_hog[300:], nn)\n",
    "    scores_knn[idx] = classify_model.score(all_img_labels[300:])\n",
    "plt.xlabel('k')\n",
    "plt.ylabel('Accuracy')\n",
    "plt.xticks(n)\n",
    "plt.plot(n,scores_knn,ls='-',lw=2,label='knn accuracy')\n",
    "scores_knn"
   ]
  },
  {
   "cell_type": "code",
   "execution_count": 11,
   "metadata": {},
   "outputs": [],
   "source": [
    "# 定义生成在最高精确率下模型的混淆矩阵和准确率，召回率的函数，用 pandas 库可视化\n",
    "import pandas as pd\n",
    "def confusion_and_probability_matrix(scores,predict_result,tru_labels):\n",
    "    idx = int(np.where(scores == scores.max())[0])\n",
    "    pre = predict_result[idx]\n",
    "    tru = tru_labels\n",
    "    confusion_matrix = \\\n",
    "    pd.DataFrame({   'bubbly_predict':[np.logical_and(pre==0,tru==0).sum(), \n",
    "                    # 模型预测结果和真实值比较，用逻辑与和sum()函数计算矩阵值\n",
    "                                       np.logical_and(pre==0,tru==1).sum(), \n",
    "                                       np.logical_and(pre==0,tru==2).sum(), \n",
    "                                       (pre==0).sum()],\n",
    "                 'stratified_predict':[np.logical_and(pre==1,tru==0).sum(), \n",
    "                                       np.logical_and(pre==1,tru==1).sum(), \n",
    "                                       np.logical_and(pre==1,tru==2).sum(), \n",
    "                                       (pre==1).sum()],\n",
    "                     'veined_predict':[np.logical_and(pre==2,tru==0).sum(), \n",
    "                                       np.logical_and(pre==2,tru==1).sum(), \n",
    "                                       np.logical_and(pre==2,tru==2).sum(), \n",
    "                                       (pre==2).sum()], \n",
    "                                'sum':[(tru==0).sum(), (tru==1).sum(), \n",
    "                                       (tru==2).sum(), pre.shape[0]]},\n",
    "                                index=['bubbly','stratified','veined','sum'])\n",
    "    probability_matrix = \\\n",
    "    pd.DataFrame({'精确率(precision)':\\\n",
    "    [confusion_matrix['bubbly_predict'][0]/confusion_matrix['bubbly_predict'][3], \n",
    "    confusion_matrix['stratified_predict'][1]/confusion_matrix['stratified_predict'][3], \n",
    "    confusion_matrix['veined_predict'][2]/confusion_matrix['veined_predict'][3]],\n",
    "    '召回率(recall)':\\\n",
    "    [confusion_matrix['bubbly_predict'][0]/confusion_matrix['sum'][0],\n",
    "    confusion_matrix['stratified_predict'][1]/confusion_matrix['sum'][1],\n",
    "    confusion_matrix['veined_predict'][2]/confusion_matrix['sum'][2]]},\n",
    "    index=['bubbly','stratified','veined'])    \n",
    "    return confusion_matrix, probability_matrix"
   ]
  },
  {
   "cell_type": "code",
   "execution_count": 12,
   "metadata": {},
   "outputs": [
    {
     "data": {
      "text/html": [
       "<div>\n",
       "<style scoped>\n",
       "    .dataframe tbody tr th:only-of-type {\n",
       "        vertical-align: middle;\n",
       "    }\n",
       "\n",
       "    .dataframe tbody tr th {\n",
       "        vertical-align: top;\n",
       "    }\n",
       "\n",
       "    .dataframe thead th {\n",
       "        text-align: right;\n",
       "    }\n",
       "</style>\n",
       "<table border=\"1\" class=\"dataframe\">\n",
       "  <thead>\n",
       "    <tr style=\"text-align: right;\">\n",
       "      <th></th>\n",
       "      <th>bubbly_predict</th>\n",
       "      <th>stratified_predict</th>\n",
       "      <th>veined_predict</th>\n",
       "      <th>sum</th>\n",
       "    </tr>\n",
       "  </thead>\n",
       "  <tbody>\n",
       "    <tr>\n",
       "      <th>bubbly</th>\n",
       "      <td>24</td>\n",
       "      <td>2</td>\n",
       "      <td>0</td>\n",
       "      <td>26</td>\n",
       "    </tr>\n",
       "    <tr>\n",
       "      <th>stratified</th>\n",
       "      <td>1</td>\n",
       "      <td>19</td>\n",
       "      <td>0</td>\n",
       "      <td>20</td>\n",
       "    </tr>\n",
       "    <tr>\n",
       "      <th>veined</th>\n",
       "      <td>7</td>\n",
       "      <td>3</td>\n",
       "      <td>4</td>\n",
       "      <td>14</td>\n",
       "    </tr>\n",
       "    <tr>\n",
       "      <th>sum</th>\n",
       "      <td>32</td>\n",
       "      <td>24</td>\n",
       "      <td>4</td>\n",
       "      <td>60</td>\n",
       "    </tr>\n",
       "  </tbody>\n",
       "</table>\n",
       "</div>"
      ],
      "text/plain": [
       "            bubbly_predict  stratified_predict  veined_predict  sum\n",
       "bubbly                  24                   2               0   26\n",
       "stratified               1                  19               0   20\n",
       "veined                   7                   3               4   14\n",
       "sum                     32                  24               4   60"
      ]
     },
     "execution_count": 12,
     "metadata": {},
     "output_type": "execute_result"
    }
   ],
   "source": [
    "confusion_matrix_knn, probability_matrix_knn = \\\n",
    "confusion_and_probability_matrix(scores_knn, predict_knn, all_img_labels[300:])\n",
    "confusion_matrix_knn\n",
    "# knn 在准确率最高时（0.783）的混淆矩阵以及模型精确率和召回率\n",
    "#分析：模型在 bubbly 和 stratified 上 精确率和召回率都较好（基本高于准确率），\n",
    "# 但在 veined 上的召回率较差（低于随机值 1/3 ）\n",
    "#推测模型可能更趋于把 veined 分到 bubbly 上"
   ]
  },
  {
   "cell_type": "code",
   "execution_count": 13,
   "metadata": {},
   "outputs": [
    {
     "data": {
      "text/html": [
       "<div>\n",
       "<style scoped>\n",
       "    .dataframe tbody tr th:only-of-type {\n",
       "        vertical-align: middle;\n",
       "    }\n",
       "\n",
       "    .dataframe tbody tr th {\n",
       "        vertical-align: top;\n",
       "    }\n",
       "\n",
       "    .dataframe thead th {\n",
       "        text-align: right;\n",
       "    }\n",
       "</style>\n",
       "<table border=\"1\" class=\"dataframe\">\n",
       "  <thead>\n",
       "    <tr style=\"text-align: right;\">\n",
       "      <th></th>\n",
       "      <th>精确率(precision)</th>\n",
       "      <th>召回率(recall)</th>\n",
       "    </tr>\n",
       "  </thead>\n",
       "  <tbody>\n",
       "    <tr>\n",
       "      <th>bubbly</th>\n",
       "      <td>0.750000</td>\n",
       "      <td>0.923077</td>\n",
       "    </tr>\n",
       "    <tr>\n",
       "      <th>stratified</th>\n",
       "      <td>0.791667</td>\n",
       "      <td>0.950000</td>\n",
       "    </tr>\n",
       "    <tr>\n",
       "      <th>veined</th>\n",
       "      <td>1.000000</td>\n",
       "      <td>0.285714</td>\n",
       "    </tr>\n",
       "  </tbody>\n",
       "</table>\n",
       "</div>"
      ],
      "text/plain": [
       "            精确率(precision)  召回率(recall)\n",
       "bubbly            0.750000     0.923077\n",
       "stratified        0.791667     0.950000\n",
       "veined            1.000000     0.285714"
      ]
     },
     "execution_count": 13,
     "metadata": {},
     "output_type": "execute_result"
    }
   ],
   "source": [
    "probability_matrix_knn"
   ]
  },
  {
   "cell_type": "code",
   "execution_count": 14,
   "metadata": {},
   "outputs": [],
   "source": [
    "#调用 sklearn 的 svm 和评分函数的相关模块，并整合成 2 个函数\n",
    "from sklearn.svm import SVC\n",
    "from sklearn import metrics\n",
    "def train_svm(X_train, y_train,kenrel):\n",
    "    svm = SVC(kernel=kenrel,\n",
    "              class_weight='balanced',\n",
    "              gamma='scale'\n",
    "              )\n",
    "    svm.fit(X_train, y_train)\n",
    "    return svm\n",
    "def score_svm(svm, X, y):\n",
    "    y_pred = svm.predict(X)\n",
    "    return metrics.accuracy_score(y, y_pred)"
   ]
  },
  {
   "cell_type": "code",
   "execution_count": 15,
   "metadata": {},
   "outputs": [
    {
     "name": "stdout",
     "output_type": "stream",
     "text": [
      "[0.73333333 0.7        0.43333333 0.68333333]\n"
     ]
    },
    {
     "data": {
      "image/png": "[encoded data removed]",
      "text/plain": [
       "<Figure size 576x288 with 1 Axes>"
      ]
     },
     "metadata": {
      "needs_background": "light"
     },
     "output_type": "display_data"
    }
   ],
   "source": [
    "# 绘制不同核函数下的模型在 60 个测试集上的精确率条形图，matplotlab可视化，\n",
    "# 可以看出 linear（线性） 核有 0.733 的精确率\n",
    "n = np.array(['linear','sigmoid','poly','rbf'])\n",
    "plt.figure(figsize=(8,4))\n",
    "scores_svm = np.zeros((n.shape[0]))\n",
    "predict_svm = np.zeros((n.shape[0],60))\n",
    "for idx,kernel in enumerate(n):\n",
    "    svm = train_svm(all_img_hog[:300], all_img_labels[:300],kernel)\n",
    "    predict_svm[idx] = svm.predict(all_img_hog[300:])\n",
    "    scores_svm[idx] = metrics.accuracy_score(all_img_labels[300:], predict_svm[idx])\n",
    "plt.xlabel('kernel')\n",
    "plt.ylabel('Accuracy')\n",
    "plt.bar(n,scores_svm,align='center',ls=':',tick_label=n)\n",
    "print(scores_svm)"
   ]
  },
  {
   "cell_type": "code",
   "execution_count": 16,
   "metadata": {},
   "outputs": [
    {
     "data": {
      "text/html": [
       "<div>\n",
       "<style scoped>\n",
       "    .dataframe tbody tr th:only-of-type {\n",
       "        vertical-align: middle;\n",
       "    }\n",
       "\n",
       "    .dataframe tbody tr th {\n",
       "        vertical-align: top;\n",
       "    }\n",
       "\n",
       "    .dataframe thead th {\n",
       "        text-align: right;\n",
       "    }\n",
       "</style>\n",
       "<table border=\"1\" class=\"dataframe\">\n",
       "  <thead>\n",
       "    <tr style=\"text-align: right;\">\n",
       "      <th></th>\n",
       "      <th>bubbly_predict</th>\n",
       "      <th>stratified_predict</th>\n",
       "      <th>veined_predict</th>\n",
       "      <th>sum</th>\n",
       "    </tr>\n",
       "  </thead>\n",
       "  <tbody>\n",
       "    <tr>\n",
       "      <th>bubbly</th>\n",
       "      <td>19</td>\n",
       "      <td>4</td>\n",
       "      <td>3</td>\n",
       "      <td>26</td>\n",
       "    </tr>\n",
       "    <tr>\n",
       "      <th>stratified</th>\n",
       "      <td>0</td>\n",
       "      <td>18</td>\n",
       "      <td>2</td>\n",
       "      <td>20</td>\n",
       "    </tr>\n",
       "    <tr>\n",
       "      <th>veined</th>\n",
       "      <td>4</td>\n",
       "      <td>3</td>\n",
       "      <td>7</td>\n",
       "      <td>14</td>\n",
       "    </tr>\n",
       "    <tr>\n",
       "      <th>sum</th>\n",
       "      <td>23</td>\n",
       "      <td>25</td>\n",
       "      <td>12</td>\n",
       "      <td>60</td>\n",
       "    </tr>\n",
       "  </tbody>\n",
       "</table>\n",
       "</div>"
      ],
      "text/plain": [
       "            bubbly_predict  stratified_predict  veined_predict  sum\n",
       "bubbly                  19                   4               3   26\n",
       "stratified               0                  18               2   20\n",
       "veined                   4                   3               7   14\n",
       "sum                     23                  25              12   60"
      ]
     },
     "execution_count": 16,
     "metadata": {},
     "output_type": "execute_result"
    }
   ],
   "source": [
    "confusion_matrix_svm,probability_matrix_svm = \\\n",
    "confusion_and_probability_matrix(scores_svm, predict_svm, all_img_labels[300:])\n",
    "confusion_matrix_svm\n",
    "# svm 在准确率最高时（0.733）的混淆矩阵以及模型精确率和召回率\n",
    "#分析：模型除去 veined 其余两类的精确率和召回率都较好（基本高于准确率0.733），\n",
    "#但与 knn 模型一样在 veined 上分类能力较差（远低于其余两类）\n",
    "#推测模型在 veined 类上拟合较差"
   ]
  },
  {
   "cell_type": "code",
   "execution_count": 17,
   "metadata": {},
   "outputs": [
    {
     "data": {
      "text/html": [
       "<div>\n",
       "<style scoped>\n",
       "    .dataframe tbody tr th:only-of-type {\n",
       "        vertical-align: middle;\n",
       "    }\n",
       "\n",
       "    .dataframe tbody tr th {\n",
       "        vertical-align: top;\n",
       "    }\n",
       "\n",
       "    .dataframe thead th {\n",
       "        text-align: right;\n",
       "    }\n",
       "</style>\n",
       "<table border=\"1\" class=\"dataframe\">\n",
       "  <thead>\n",
       "    <tr style=\"text-align: right;\">\n",
       "      <th></th>\n",
       "      <th>精确率(precision)</th>\n",
       "      <th>召回率(recall)</th>\n",
       "    </tr>\n",
       "  </thead>\n",
       "  <tbody>\n",
       "    <tr>\n",
       "      <th>bubbly</th>\n",
       "      <td>0.826087</td>\n",
       "      <td>0.730769</td>\n",
       "    </tr>\n",
       "    <tr>\n",
       "      <th>stratified</th>\n",
       "      <td>0.720000</td>\n",
       "      <td>0.900000</td>\n",
       "    </tr>\n",
       "    <tr>\n",
       "      <th>veined</th>\n",
       "      <td>0.583333</td>\n",
       "      <td>0.500000</td>\n",
       "    </tr>\n",
       "  </tbody>\n",
       "</table>\n",
       "</div>"
      ],
      "text/plain": [
       "            精确率(precision)  召回率(recall)\n",
       "bubbly            0.826087     0.730769\n",
       "stratified        0.720000     0.900000\n",
       "veined            0.583333     0.500000"
      ]
     },
     "execution_count": 17,
     "metadata": {},
     "output_type": "execute_result"
    }
   ],
   "source": [
    "probability_matrix_svm"
   ]
  }
 ],
 "metadata": {
  "kernelspec": {
   "display_name": "Python 3",
   "language": "python",
   "name": "python3"
  },
  "language_info": {
   "codemirror_mode": {
    "name": "ipython",
    "version": 3
   },
   "file_extension": ".py",
   "mimetype": "text/x-python",
   "name": "python",
   "nbconvert_exporter": "python",
   "pygments_lexer": "ipython3",
   "version": "3.7.3"
  }
 },
 "nbformat": 4,
 "nbformat_minor": 2
}
