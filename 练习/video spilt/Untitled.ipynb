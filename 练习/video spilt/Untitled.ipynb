{
 "cells": [
  {
   "cell_type": "code",
   "execution_count": 1,
   "metadata": {},
   "outputs": [
    {
     "name": "stderr",
     "output_type": "stream",
     "text": [
      "Using TensorFlow backend.\n"
     ]
    },
    {
     "data": {
      "text/plain": [
       "'2.2.4'"
      ]
     },
     "execution_count": 1,
     "metadata": {},
     "output_type": "execute_result"
    }
   ],
   "source": [
    "import keras\n",
    "keras.__version__"
   ]
  },
  {
   "cell_type": "code",
   "execution_count": 2,
   "metadata": {},
   "outputs": [],
   "source": [
    "from keras import layers\n",
    "from keras import models"
   ]
  },
  {
   "cell_type": "code",
   "execution_count": 21,
   "metadata": {},
   "outputs": [],
   "source": [
    "model = models.Sequential()\n",
    "model.add(layers.Conv2D(32, (3, 3), activation='relu',\n",
    "                        input_shape=(64, 64, 3)))\n",
    "model.add(layers.MaxPooling2D((2, 2)))\n",
    "model.add(layers.Conv2D(64, (3, 3), activation='relu'))\n",
    "model.add(layers.MaxPooling2D((2, 2)))\n",
    "model.add(layers.Conv2D(128, (3, 3), activation='relu'))\n",
    "model.add(layers.MaxPooling2D((2, 2)))\n",
    "model.add(layers.Conv2D(128, (3, 3), activation='relu'))\n",
    "model.add(layers.MaxPooling2D((2, 2)))\n",
    "model.add(layers.Flatten())\n",
    "model.add(layers.Dense(512, activation='relu'))\n",
    "model.add(layers.Dense(1, activation='sigmoid'))"
   ]
  },
  {
   "cell_type": "code",
   "execution_count": 22,
   "metadata": {},
   "outputs": [
    {
     "name": "stdout",
     "output_type": "stream",
     "text": [
      "_________________________________________________________________\n",
      "Layer (type)                 Output Shape              Param #   \n",
      "=================================================================\n",
      "conv2d_13 (Conv2D)           (None, 62, 62, 32)        896       \n",
      "_________________________________________________________________\n",
      "max_pooling2d_13 (MaxPooling (None, 31, 31, 32)        0         \n",
      "_________________________________________________________________\n",
      "conv2d_14 (Conv2D)           (None, 29, 29, 64)        18496     \n",
      "_________________________________________________________________\n",
      "max_pooling2d_14 (MaxPooling (None, 14, 14, 64)        0         \n",
      "_________________________________________________________________\n",
      "conv2d_15 (Conv2D)           (None, 12, 12, 128)       73856     \n",
      "_________________________________________________________________\n",
      "max_pooling2d_15 (MaxPooling (None, 6, 6, 128)         0         \n",
      "_________________________________________________________________\n",
      "conv2d_16 (Conv2D)           (None, 4, 4, 128)         147584    \n",
      "_________________________________________________________________\n",
      "max_pooling2d_16 (MaxPooling (None, 2, 2, 128)         0         \n",
      "_________________________________________________________________\n",
      "flatten_4 (Flatten)          (None, 512)               0         \n",
      "_________________________________________________________________\n",
      "dense_7 (Dense)              (None, 512)               262656    \n",
      "_________________________________________________________________\n",
      "dense_8 (Dense)              (None, 1)                 513       \n",
      "=================================================================\n",
      "Total params: 504,001\n",
      "Trainable params: 504,001\n",
      "Non-trainable params: 0\n",
      "_________________________________________________________________\n"
     ]
    }
   ],
   "source": [
    "model.summary()"
   ]
  },
  {
   "cell_type": "code",
   "execution_count": 23,
   "metadata": {},
   "outputs": [],
   "source": [
    "from keras import optimizers\n",
    "\n",
    "model.compile(loss='binary_crossentropy',\n",
    "              optimizer=optimizers.RMSprop(lr=1e-4),\n",
    "              metrics=['acc'])"
   ]
  },
  {
   "cell_type": "code",
   "execution_count": 24,
   "metadata": {},
   "outputs": [
    {
     "name": "stdout",
     "output_type": "stream",
     "text": [
      "Found 1785 images belonging to 2 classes.\n",
      "Found 600 images belonging to 2 classes.\n"
     ]
    }
   ],
   "source": [
    "train_dir = '../video spilt/deep/train'\n",
    "validation_dir = '../video spilt/deep/validation'\n",
    "from keras.preprocessing.image import ImageDataGenerator\n",
    "\n",
    "# All images will be rescaled by 1./255\n",
    "train_datagen = ImageDataGenerator(rescale=1./255)\n",
    "test_datagen = ImageDataGenerator(rescale=1./255)\n",
    "\n",
    "train_generator = train_datagen.flow_from_directory(\n",
    "        # This is the target directory\n",
    "        train_dir,\n",
    "        # All images will be resized to 150x150\n",
    "        \n",
    "        target_size=(64, 64),\n",
    "        batch_size=20,\n",
    "        # Since we use binary_crossentropy loss, we need binary labels\n",
    "        class_mode='binary')\n",
    "\n",
    "validation_generator = test_datagen.flow_from_directory(\n",
    "        validation_dir,\n",
    "        target_size=(64, 64),\n",
    "        batch_size=20,\n",
    "        class_mode='binary')"
   ]
  },
  {
   "cell_type": "code",
   "execution_count": 25,
   "metadata": {},
   "outputs": [
    {
     "name": "stdout",
     "output_type": "stream",
     "text": [
      "data batch shape: (20, 64, 64, 3)\n",
      "labels batch shape: (20,)\n"
     ]
    }
   ],
   "source": [
    "for data_batch, labels_batch in train_generator:\n",
    "    print('data batch shape:', data_batch.shape)\n",
    "    print('labels batch shape:', labels_batch.shape)\n",
    "    break"
   ]
  },
  {
   "cell_type": "code",
   "execution_count": 26,
   "metadata": {},
   "outputs": [
    {
     "name": "stdout",
     "output_type": "stream",
     "text": [
      "Epoch 1/30\n",
      "80/80 [==============================] - 29s 356ms/step - loss: 0.2298 - acc: 0.9306 - val_loss: 0.6499 - val_acc: 0.7200\n",
      "Epoch 2/30\n",
      "80/80 [==============================] - 21s 266ms/step - loss: 0.0307 - acc: 0.9925 - val_loss: 0.5262 - val_acc: 0.7617\n",
      "Epoch 3/30\n",
      "80/80 [==============================] - 22s 273ms/step - loss: 0.0042 - acc: 0.9994 - val_loss: 0.4755 - val_acc: 0.8100\n",
      "Epoch 4/30\n",
      "80/80 [==============================] - 21s 265ms/step - loss: 4.3597e-04 - acc: 1.0000 - val_loss: 0.4296 - val_acc: 0.8283\n",
      "Epoch 5/30\n",
      "80/80 [==============================] - 21s 266ms/step - loss: 1.8465e-04 - acc: 1.0000 - val_loss: 0.4799 - val_acc: 0.8400\n",
      "Epoch 6/30\n",
      "80/80 [==============================] - 20s 256ms/step - loss: 1.1582e-05 - acc: 1.0000 - val_loss: 0.5629 - val_acc: 0.8283\n",
      "Epoch 7/30\n",
      "80/80 [==============================] - 21s 257ms/step - loss: 7.8315e-05 - acc: 1.0000 - val_loss: 0.5324 - val_acc: 0.8317\n",
      "Epoch 8/30\n",
      "80/80 [==============================] - 21s 258ms/step - loss: 1.8005e-06 - acc: 1.0000 - val_loss: 0.5677 - val_acc: 0.8350\n",
      "Epoch 9/30\n",
      "80/80 [==============================] - 20s 256ms/step - loss: 3.9545e-07 - acc: 1.0000 - val_loss: 0.6176 - val_acc: 0.8367\n",
      "Epoch 10/30\n",
      "80/80 [==============================] - 21s 259ms/step - loss: 1.3338e-07 - acc: 1.0000 - val_loss: 0.6526 - val_acc: 0.8333\n",
      "Epoch 11/30\n",
      "80/80 [==============================] - 22s 269ms/step - loss: 1.1607e-07 - acc: 1.0000 - val_loss: 0.6678 - val_acc: 0.8317\n",
      "Epoch 12/30\n",
      "80/80 [==============================] - 22s 274ms/step - loss: 1.1309e-07 - acc: 1.0000 - val_loss: 0.6877 - val_acc: 0.8367\n",
      "Epoch 13/30\n",
      "80/80 [==============================] - 21s 265ms/step - loss: 1.1222e-07 - acc: 1.0000 - val_loss: 0.6784 - val_acc: 0.8383\n",
      "Epoch 14/30\n",
      "80/80 [==============================] - 21s 259ms/step - loss: 1.1114e-07 - acc: 1.0000 - val_loss: 0.6886 - val_acc: 0.8333\n",
      "Epoch 15/30\n",
      "80/80 [==============================] - 21s 257ms/step - loss: 1.1092e-07 - acc: 1.0000 - val_loss: 0.6979 - val_acc: 0.8333\n",
      "Epoch 16/30\n",
      "80/80 [==============================] - 21s 257ms/step - loss: 1.1051e-07 - acc: 1.0000 - val_loss: 0.6981 - val_acc: 0.8333\n",
      "Epoch 17/30\n",
      "80/80 [==============================] - 21s 259ms/step - loss: 1.1067e-07 - acc: 1.0000 - val_loss: 0.7033 - val_acc: 0.8333\n",
      "Epoch 18/30\n",
      "80/80 [==============================] - 21s 259ms/step - loss: 1.1037e-07 - acc: 1.0000 - val_loss: 0.7024 - val_acc: 0.8333\n",
      "Epoch 19/30\n",
      "80/80 [==============================] - 21s 261ms/step - loss: 1.1029e-07 - acc: 1.0000 - val_loss: 0.7030 - val_acc: 0.8317\n",
      "Epoch 20/30\n",
      "80/80 [==============================] - 20s 256ms/step - loss: 1.1027e-07 - acc: 1.0000 - val_loss: 0.7099 - val_acc: 0.8350\n",
      "Epoch 21/30\n",
      "80/80 [==============================] - 21s 260ms/step - loss: 1.1010e-07 - acc: 1.0000 - val_loss: 0.7086 - val_acc: 0.8350\n",
      "Epoch 22/30\n",
      "80/80 [==============================] - 21s 258ms/step - loss: 1.1006e-07 - acc: 1.0000 - val_loss: 0.7145 - val_acc: 0.8300\n",
      "Epoch 23/30\n",
      "80/80 [==============================] - 21s 257ms/step - loss: 1.1038e-07 - acc: 1.0000 - val_loss: 0.7130 - val_acc: 0.8350\n",
      "Epoch 24/30\n",
      "80/80 [==============================] - 21s 263ms/step - loss: 1.0995e-07 - acc: 1.0000 - val_loss: 0.7141 - val_acc: 0.8350\n",
      "Epoch 25/30\n",
      "80/80 [==============================] - 21s 257ms/step - loss: 1.1048e-07 - acc: 1.0000 - val_loss: 0.7133 - val_acc: 0.8350\n",
      "Epoch 26/30\n",
      "80/80 [==============================] - 21s 257ms/step - loss: 1.0987e-07 - acc: 1.0000 - val_loss: 0.7115 - val_acc: 0.8333\n",
      "Epoch 27/30\n",
      "80/80 [==============================] - 21s 258ms/step - loss: 1.1013e-07 - acc: 1.0000 - val_loss: 0.7175 - val_acc: 0.8333\n",
      "Epoch 28/30\n",
      "80/80 [==============================] - 21s 261ms/step - loss: 1.0994e-07 - acc: 1.0000 - val_loss: 0.7153 - val_acc: 0.8350\n",
      "Epoch 29/30\n",
      "80/80 [==============================] - 21s 268ms/step - loss: 1.1032e-07 - acc: 1.0000 - val_loss: 0.7175 - val_acc: 0.8350\n",
      "Epoch 30/30\n",
      "80/80 [==============================] - 22s 272ms/step - loss: 1.1011e-07 - acc: 1.0000 - val_loss: 0.7175 - val_acc: 0.8350\n"
     ]
    }
   ],
   "source": [
    "history = model.fit_generator(\n",
    "      train_generator,\n",
    "      steps_per_epoch=80,\n",
    "      epochs=30,\n",
    "      validation_data=validation_generator,\n",
    "      validation_steps=30)"
   ]
  },
  {
   "cell_type": "code",
   "execution_count": 27,
   "metadata": {},
   "outputs": [],
   "source": [
    "model.save('myface1.h5')"
   ]
  },
  {
   "cell_type": "code",
   "execution_count": null,
   "metadata": {},
   "outputs": [],
   "source": []
  }
 ],
 "metadata": {
  "kernelspec": {
   "display_name": "Python 3",
   "language": "python",
   "name": "python3"
  },
  "language_info": {
   "codemirror_mode": {
    "name": "ipython",
    "version": 3
   },
   "file_extension": ".py",
   "mimetype": "text/x-python",
   "name": "python",
   "nbconvert_exporter": "python",
   "pygments_lexer": "ipython3",
   "version": "3.6.7"
  }
 },
 "nbformat": 4,
 "nbformat_minor": 2
}
