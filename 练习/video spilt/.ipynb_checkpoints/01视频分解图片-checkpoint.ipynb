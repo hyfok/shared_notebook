{
 "cells": [
  {
   "cell_type": "code",
   "execution_count": 1,
   "metadata": {},
   "outputs": [
    {
     "name": "stdout",
     "output_type": "stream",
     "text": [
      "<built-in method isOpened of cv2.VideoCapture object at 0x000002139A6633D0>\n",
      "29.38988252501469 1280 720\n",
      "image1.jpg\n",
      "(720, 1280, 3)\n",
      "image2.jpg\n",
      "(720, 1280, 3)\n",
      "image3.jpg\n",
      "(720, 1280, 3)\n",
      "image4.jpg\n",
      "(720, 1280, 3)\n",
      "image5.jpg\n",
      "(720, 1280, 3)\n",
      "image6.jpg\n",
      "(720, 1280, 3)\n",
      "image7.jpg\n",
      "(720, 1280, 3)\n",
      "image8.jpg\n",
      "(720, 1280, 3)\n",
      "image9.jpg\n",
      "(720, 1280, 3)\n",
      "image10.jpg\n",
      "(720, 1280, 3)\n",
      "end!\n"
     ]
    }
   ],
   "source": [
    "# 视频分解图片\n",
    "# 1 load 2 info 3 parse 4 imshow imwrite\n",
    "import cv2\n",
    "cap = cv2.VideoCapture(\"1.mp4\")# 获取一个视频打开cap 1 file name\n",
    "isOpened = cap.isOpened# 判断是否打开‘\n",
    "print(isOpened)\n",
    "fps = cap.get(cv2.CAP_PROP_FPS)#帧率\n",
    "width = int(cap.get(cv2.CAP_PROP_FRAME_WIDTH))#w h\n",
    "height = int(cap.get(cv2.CAP_PROP_FRAME_HEIGHT))\n",
    "print(fps,width,height)\n",
    "i = 0\n",
    "while(isOpened):\n",
    "    if i == 10:\n",
    "        break\n",
    "    else:\n",
    "        i = i+1\n",
    "    (flag,frame) = cap.read()# 读取每一张 flag frame \n",
    "    fileName = 'image'+str(i)+'.jpg'\n",
    "    print(fileName)\n",
    "    if flag == True:\n",
    "        frame.shape = ()\n",
    "        cv2.imwrite(fileName,frame,[cv2.IMWRITE_JPEG_QUALITY,100])\n",
    "        print(frame.shape)\n",
    "print('end!')\n"
   ]
  },
  {
   "cell_type": "code",
   "execution_count": null,
   "metadata": {},
   "outputs": [],
   "source": []
  }
 ],
 "metadata": {
  "kernelspec": {
   "display_name": "Python 3",
   "language": "python",
   "name": "python3"
  },
  "language_info": {
   "codemirror_mode": {
    "name": "ipython",
    "version": 3
   },
   "file_extension": ".py",
   "mimetype": "text/x-python",
   "name": "python",
   "nbconvert_exporter": "python",
   "pygments_lexer": "ipython3",
   "version": "3.6.7"
  }
 },
 "nbformat": 4,
 "nbformat_minor": 2
}
