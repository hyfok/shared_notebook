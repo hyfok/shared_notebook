{
 "cells": [
  {
   "cell_type": "code",
   "execution_count": 1,
   "metadata": {},
   "outputs": [
    {
     "name": "stderr",
     "output_type": "stream",
     "text": [
      "Using TensorFlow backend.\n",
      "E:\\Study\\Anaconda\\envs\\keras-gpu\\lib\\site-packages\\tensorflow\\python\\framework\\dtypes.py:516: FutureWarning: Passing (type, 1) or '1type' as a synonym of type is deprecated; in a future version of numpy, it will be understood as (type, (1,)) / '(1,)type'.\n",
      "  _np_qint8 = np.dtype([(\"qint8\", np.int8, 1)])\n",
      "E:\\Study\\Anaconda\\envs\\keras-gpu\\lib\\site-packages\\tensorflow\\python\\framework\\dtypes.py:517: FutureWarning: Passing (type, 1) or '1type' as a synonym of type is deprecated; in a future version of numpy, it will be understood as (type, (1,)) / '(1,)type'.\n",
      "  _np_quint8 = np.dtype([(\"quint8\", np.uint8, 1)])\n",
      "E:\\Study\\Anaconda\\envs\\keras-gpu\\lib\\site-packages\\tensorflow\\python\\framework\\dtypes.py:518: FutureWarning: Passing (type, 1) or '1type' as a synonym of type is deprecated; in a future version of numpy, it will be understood as (type, (1,)) / '(1,)type'.\n",
      "  _np_qint16 = np.dtype([(\"qint16\", np.int16, 1)])\n",
      "E:\\Study\\Anaconda\\envs\\keras-gpu\\lib\\site-packages\\tensorflow\\python\\framework\\dtypes.py:519: FutureWarning: Passing (type, 1) or '1type' as a synonym of type is deprecated; in a future version of numpy, it will be understood as (type, (1,)) / '(1,)type'.\n",
      "  _np_quint16 = np.dtype([(\"quint16\", np.uint16, 1)])\n",
      "E:\\Study\\Anaconda\\envs\\keras-gpu\\lib\\site-packages\\tensorflow\\python\\framework\\dtypes.py:520: FutureWarning: Passing (type, 1) or '1type' as a synonym of type is deprecated; in a future version of numpy, it will be understood as (type, (1,)) / '(1,)type'.\n",
      "  _np_qint32 = np.dtype([(\"qint32\", np.int32, 1)])\n",
      "E:\\Study\\Anaconda\\envs\\keras-gpu\\lib\\site-packages\\tensorflow\\python\\framework\\dtypes.py:525: FutureWarning: Passing (type, 1) or '1type' as a synonym of type is deprecated; in a future version of numpy, it will be understood as (type, (1,)) / '(1,)type'.\n",
      "  np_resource = np.dtype([(\"resource\", np.ubyte, 1)])\n",
      "E:\\Study\\Anaconda\\envs\\keras-gpu\\lib\\site-packages\\tensorboard\\compat\\tensorflow_stub\\dtypes.py:541: FutureWarning: Passing (type, 1) or '1type' as a synonym of type is deprecated; in a future version of numpy, it will be understood as (type, (1,)) / '(1,)type'.\n",
      "  _np_qint8 = np.dtype([(\"qint8\", np.int8, 1)])\n",
      "E:\\Study\\Anaconda\\envs\\keras-gpu\\lib\\site-packages\\tensorboard\\compat\\tensorflow_stub\\dtypes.py:542: FutureWarning: Passing (type, 1) or '1type' as a synonym of type is deprecated; in a future version of numpy, it will be understood as (type, (1,)) / '(1,)type'.\n",
      "  _np_quint8 = np.dtype([(\"quint8\", np.uint8, 1)])\n",
      "E:\\Study\\Anaconda\\envs\\keras-gpu\\lib\\site-packages\\tensorboard\\compat\\tensorflow_stub\\dtypes.py:543: FutureWarning: Passing (type, 1) or '1type' as a synonym of type is deprecated; in a future version of numpy, it will be understood as (type, (1,)) / '(1,)type'.\n",
      "  _np_qint16 = np.dtype([(\"qint16\", np.int16, 1)])\n",
      "E:\\Study\\Anaconda\\envs\\keras-gpu\\lib\\site-packages\\tensorboard\\compat\\tensorflow_stub\\dtypes.py:544: FutureWarning: Passing (type, 1) or '1type' as a synonym of type is deprecated; in a future version of numpy, it will be understood as (type, (1,)) / '(1,)type'.\n",
      "  _np_quint16 = np.dtype([(\"quint16\", np.uint16, 1)])\n",
      "E:\\Study\\Anaconda\\envs\\keras-gpu\\lib\\site-packages\\tensorboard\\compat\\tensorflow_stub\\dtypes.py:545: FutureWarning: Passing (type, 1) or '1type' as a synonym of type is deprecated; in a future version of numpy, it will be understood as (type, (1,)) / '(1,)type'.\n",
      "  _np_qint32 = np.dtype([(\"qint32\", np.int32, 1)])\n",
      "E:\\Study\\Anaconda\\envs\\keras-gpu\\lib\\site-packages\\tensorboard\\compat\\tensorflow_stub\\dtypes.py:550: FutureWarning: Passing (type, 1) or '1type' as a synonym of type is deprecated; in a future version of numpy, it will be understood as (type, (1,)) / '(1,)type'.\n",
      "  np_resource = np.dtype([(\"resource\", np.ubyte, 1)])\n"
     ]
    },
    {
     "data": {
      "text/plain": [
       "(True, '1.14.0', '2.2.4')"
      ]
     },
     "execution_count": 1,
     "metadata": {},
     "output_type": "execute_result"
    }
   ],
   "source": [
    "import os\n",
    "from PIL import Image\n",
    "#import tensorflow as tf\n",
    "#from tensorflow import keras\n",
    "import keras\n",
    "#from tensorflow.keras import layers\n",
    "from keras import layers\n",
    "import keras.backend as K\n",
    "import numpy as np\n",
    "import pandas as pd\n",
    "import matplotlib.pylab as plt\n",
    "plt.style.use(\"ggplot\")\n",
    "%matplotlib inline\n",
    "import tensorflow as tf\n",
    "tf.test.is_gpu_available(),tf.__version__,keras.__version__"
   ]
  },
  {
   "cell_type": "code",
   "execution_count": 47,
   "metadata": {},
   "outputs": [
    {
     "data": {
      "text/plain": [
       "['E:\\\\Study\\\\Anaconda\\\\envs\\\\keras-gpu\\\\lib\\\\site-packages\\\\tensorflow\\\\python\\\\keras\\\\api\\\\_v1',\n",
       " 'E:\\\\Study\\\\Anaconda\\\\envs\\\\keras-gpu\\\\lib\\\\site-packages\\\\tensorflow_estimator\\\\python\\\\estimator\\\\api\\\\_v1',\n",
       " 'E:\\\\Study\\\\Anaconda\\\\envs\\\\keras-gpu\\\\lib\\\\site-packages\\\\tensorflow',\n",
       " 'E:\\\\Study\\\\Anaconda\\\\envs\\\\keras-gpu\\\\lib\\\\site-packages\\\\tensorflow\\\\_api\\\\v1']"
      ]
     },
     "execution_count": 47,
     "metadata": {},
     "output_type": "execute_result"
    }
   ],
   "source": [
    "tf.__path__"
   ]
  },
  {
   "cell_type": "markdown",
   "metadata": {},
   "source": [
    "mm = np.array(Image.open('E:\\\\Study\\\\竞赛\\\\识别验证码\\\\train\\\\1.jpg'))\n",
    "mm =np.swapaxes(pp,1,2)\n",
    "mm = mm.reshape(1,4,30,40,3)\n",
    "mm =np.swapaxes(mm,2,3)\n",
    "Image.fromarray(mm[0,3])"
   ]
  },
  {
   "cell_type": "code",
   "execution_count": 2,
   "metadata": {},
   "outputs": [],
   "source": [
    "base_path = 'E:\\Study\\竞赛\\识别验证码'\n",
    "#base_path = '/home/hyfok/Notebook/Captcha_contest/data'\n",
    "\n",
    "def read_images(root=base_path, train=True):\n",
    "    def fun(i):\n",
    "        if ord(i)< 65:\n",
    "            return ord(i)- 48\n",
    "        elif ord(i)>=97:\n",
    "            return ord(i)-71+10 \n",
    "        else:\n",
    "            return ord(i) - 65 + 10 \n",
    "    csv_fname = os.path.join(root, 'train/train_label.csv')\n",
    "    csv_data = pd.read_csv(csv_fname, usecols=['ID', 'label'])\n",
    "    images,labels = csv_data.to_numpy()[:,0].tolist(),csv_data.to_numpy()[:,1].tolist()\n",
    "    images = [os.path.join(root, 'train/'+i) for i in images]\n",
    "    images = np.array([np.array(Image.open(os.path.join(base_path, i))) for i in images])\n",
    "    labels = np.array([[fun(i) for i in i] for i in labels])\n",
    "    return images, labels"
   ]
  },
  {
   "cell_type": "code",
   "execution_count": 10,
   "metadata": {},
   "outputs": [],
   "source": [
    "images, labels = read_images() #5000 * 40 * 120 * 3 ;  5000 * 4 \n",
    "labels = np.array([tf.keras.utils.to_categorical(i, 62) for i in labels]) #5000 * 4 * 62\n",
    "train_dataset = tf.data.Dataset.from_tensor_slices((images, labels))\n",
    "train_dataset = train_dataset.shuffle(buffer_size=1024).batch(50)\n",
    "val_dataset = tf.data.Dataset.from_tensor_slices((images, labels))"
   ]
  },
  {
   "cell_type": "code",
   "execution_count": 4,
   "metadata": {},
   "outputs": [
    {
     "data": {
      "text/plain": [
       "array([ 0,  1,  2,  3,  4,  5,  6,  7,  8,  9, 10, 11, 12, 13, 14, 15, 16,\n",
       "       17, 18, 19, 20, 21, 22, 23, 24, 25, 26, 27, 28, 29, 30, 31, 32, 33,\n",
       "       34, 35, 36, 37, 38, 39, 40, 41, 42, 43, 44, 45, 46, 47, 48, 49, 50,\n",
       "       51, 52, 53, 54, 55, 56, 57, 58, 59, 60, 61])"
      ]
     },
     "execution_count": 4,
     "metadata": {},
     "output_type": "execute_result"
    }
   ],
   "source": [
    "#images, labels = read_images()\n",
    "#np.unique(labels)"
   ]
  },
  {
   "cell_type": "code",
   "execution_count": 99,
   "metadata": {
    "scrolled": false
   },
   "outputs": [],
   "source": [
    "inputs = layers.Input(shape=(40, 120, 3), name='img')\n",
    "\n",
    "h1 = layers.Conv2D(32, 3, activation='relu', padding='same',strides=1,use_bias=False)(inputs)\n",
    "h1 = layers.BatchNormalization()(h1)\n",
    "h1 = layers.Conv2D(64, 3, activation='relu', strides=2, padding='same', use_bias=False)(h1)\n",
    "block1_out = layers.BatchNormalization()(h1)\n",
    "#block1_out = layers.MaxPooling2D(2)(h1) # N * 20 * 60 * 64\n",
    "\n",
    "h2 = layers.Conv2D(64, 3, activation='relu', padding='same',use_bias=False)(block1_out)\n",
    "h2 = layers.BatchNormalization()(h2)\n",
    "h2 = layers.Conv2D(64, 3, activation='relu', padding='same',use_bias=False)(h2)\n",
    "h2 = layers.BatchNormalization()(h2)\n",
    "block2_out = layers.ReLU()(layers.add([h2, block1_out])) # N * 20 * 60 * 64\n",
    "\n",
    "h3 = layers.Conv2D(64, 3, activation='relu',strides=2, padding='same',use_bias=False)(block2_out)\n",
    "h3 = layers.BatchNormalization()(h3)\n",
    "#h3 = layers.MaxPooling2D(2)(h3)  \n",
    "h3 = layers.Conv2D(64, 3, activation='relu', padding='same',use_bias=False)(h3)\n",
    "h3 = layers.BatchNormalization()(h3)\n",
    "block2_out = layers.Conv2D(64, 1, activation='relu', padding='same',strides=2,use_bias=False)(block2_out)\n",
    "block3_out = layers.ReLU()(layers.add([h3, block2_out])) # N * 10 * 30 * 64\n",
    "\n",
    "h4 = layers.Conv2D(64, 3, activation='relu', padding='same',use_bias=False)(block3_out)\n",
    "h4 = layers.BatchNormalization()(h4)\n",
    "h4 = layers.Conv2D(64, 3, activation='relu', padding='same',use_bias=False)(h4)\n",
    "h4 = layers.BatchNormalization()(h4)\n",
    "block4_out = layers.ReLU()(layers.add([h4, block3_out])) # N * 10 * 30 * 64\n",
    "\n",
    "h5 = layers.convolutional.ZeroPadding2D(padding=(2, 2), data_format=None)(block4_out)\n",
    "#h5 = layers.convolutional.ZeroPadding2D(padding=(2, 2), data_format=None)(block3_out)\n",
    "h5 = layers.Conv2D(128, 3, activation='relu',strides=2, padding='valid',use_bias=False)(h5)\n",
    "h5 = layers.BatchNormalization()(h5)\n",
    "#h5 = layers.MaxPooling2D(2)(h5)\n",
    "h5 = layers.Conv2D(128, 3, activation='relu',padding='same',use_bias=False)(h5) \n",
    "h5 = layers.BatchNormalization()(h5)\n",
    "block4_out = layers.convolutional.ZeroPadding2D(padding=(1, 1), data_format=None)(block4_out)\n",
    "#block4_out = layers.convolutional.ZeroPadding2D(padding=(1, 1), data_format=None)(block3_out)\n",
    "block4_out = layers.Conv2D(128, 1, activation='relu', padding='same',strides=2,use_bias=False)(block4_out)\n",
    "block5_out = layers.ReLU()(layers.add([h5, block4_out])) # N * 6 * 16 * 128\n",
    "\n",
    "h6 = layers.Conv2D(256, 3, activation='relu',padding='same',use_bias=False)(block5_out)\n",
    "h6 = layers.BatchNormalization()(h6)\n",
    "h6 = layers.Conv2D(256, 3, activation='relu',padding='same',use_bias=False)(h6) \n",
    "h6 = layers.BatchNormalization()(h6)\n",
    "block5_out = layers.Conv2D(256, 1, activation='relu', padding='same',strides=1,use_bias=False)(block5_out)\n",
    "block6_out = layers.ReLU()(layers.add([h6, block5_out]))# N * 6 * 16 * 256\n",
    "\n",
    "#out = layers.Flatten()(block6_out)\n",
    "#out = layers.Dense(62*4, activation='linear', name='fc1')(out)\n",
    "#out = layers.Reshape((4,62))(out)\n",
    "\n",
    "out = keras.layers.Lambda(lambda x:keras.backend.permute_dimensions(x,(0,2,1,3)))(block6_out)\n",
    "out = layers.Reshape((4,6,4,256))(out)\n",
    "out = keras.layers.Lambda(lambda x:keras.backend.permute_dimensions(x,(0,1,3,2,4)))(out)\n",
    "out = layers.TimeDistributed(layers.Conv2D(256, 3, activation='relu',padding='same', strides=1,use_bias=False))(out)\n",
    "out = layers.TimeDistributed(layers.BatchNormalization())(out)\n",
    "out = layers.TimeDistributed(layers.Conv2D(256, 1, activation='relu',padding='same', strides=1,use_bias=False))(out)\n",
    "out = layers.Reshape((4,4*6*256))(out)\n",
    "out = layers.TimeDistributed(layers.Dense(512, activation='relu', name='fc1'))(out) # N * 4 * 256\n",
    "out = layers.TimeDistributed(layers.Dropout(0.5))(out)\n",
    "out = layers.TimeDistributed(layers.Dense(62, activation='linear', name='dense_class'))(out)  # N * 4 * 62\n",
    "\n",
    "model = keras.Model(inputs,out)\n",
    "keras.utils.plot_model(model, show_shapes=True)"
   ]
  },
  {
   "cell_type": "code",
   "execution_count": 117,
   "metadata": {},
   "outputs": [],
   "source": [
    "inputs = layers.Input(shape=(40, 120, 3), name='img')\n",
    "\n",
    "h1 = layers.Conv2D(32, 3, activation='relu', padding='same',strides=1,use_bias=False)(inputs)\n",
    "h1 = layers.BatchNormalization()(h1)\n",
    "h1 = layers.Conv2D(32, 3, activation='relu', strides=2, padding='same', use_bias=False)(h1)\n",
    "block1_out = layers.BatchNormalization()(h1) # N * 20 * 60 * 64\n",
    "\n",
    "\n",
    "h2 = layers.Conv2D(64, 3, activation='relu', padding='same',use_bias=False)(block1_out)\n",
    "h2 = layers.BatchNormalization()(h2)\n",
    "h2 = layers.Conv2D(64, 3, activation='relu', padding='same',use_bias=False)(h2)\n",
    "block2_out = layers.BatchNormalization()(h2)  \n",
    "\n",
    "\n",
    "h3 = layers.Conv2D(128, 3, activation='relu',strides=2, padding='same',use_bias=False)(block2_out) \n",
    "h3 = layers.BatchNormalization()(h3)\n",
    "h3 = layers.Conv2D(128, 3, activation='relu', padding='same',use_bias=False)(h3)\n",
    "block3_out = layers.BatchNormalization()(h3) # N * 10 * 30 * 64\n",
    "\n",
    "h4 = layers.convolutional.ZeroPadding2D(padding=(2, 2), data_format=None)(block3_out)\n",
    "h4 = layers.Conv2D(256, 3, activation='relu',strides=2, padding='valid',use_bias=False)(h4)\n",
    "h4 = layers.BatchNormalization()(h4)\n",
    "h4 = layers.Conv2D(256, 3, activation='relu',padding='same',use_bias=False)(h4) \n",
    "block4_out = layers.BatchNormalization()(h4)# N * 6 * 16 * 64\n",
    "\n",
    "\n",
    "out = keras.layers.Lambda(lambda x:keras.backend.permute_dimensions(x,(0,2,1,3)))(block4_out)\n",
    "out = layers.Reshape((4,6,4,256))(out)\n",
    "out = keras.layers.Lambda(lambda x:keras.backend.permute_dimensions(x,(0,1,3,2,4)))(out)\n",
    "out = layers.TimeDistributed(layers.Conv2D(256, 3, activation='relu',padding='same', strides=1,use_bias=False))(out)\n",
    "out = layers.TimeDistributed(layers.BatchNormalization())(out)\n",
    "out = layers.TimeDistributed(layers.Conv2D(256, 1, activation='relu',padding='same', strides=1,use_bias=False))(out)\n",
    "out = layers.Reshape((4,4*6*256))(out)\n",
    "#out = layers.TimeDistributed(layers.Dense(512, activation='relu', name='fc1'))(out) # N * 4 * 256\n",
    "#out = layers.TimeDistributed(layers.Dropout(0.5))(out)\n",
    "\n",
    "out = layers.Flatten()(out)\n",
    "out = layers.Dense(512, activation='linear', name='fc1')(out)\n",
    "out = layers.Dropout(0.5)(out)\n",
    "out = layers.Dense(62*4, activation='linear', name='fc2')(out)\n",
    "out = layers.Reshape((4,62))(out)\n",
    "\n",
    "#out = layers.TimeDistributed(layers.Dense(62, activation='linear', name='dense_class'))(out)  # N * 4 * 62\n",
    "\n",
    "model = keras.Model(inputs,out)\n",
    "keras.utils.plot_model(model, show_shapes=True)"
   ]
  },
  {
   "cell_type": "markdown",
   "metadata": {},
   "source": [
    "out = keras.layers.Lambda(lambda x:keras.backend.permute_dimensions(x,(0,2,1,3)))(block6_out)\n",
    "out = layers.Reshape((4,6,4,256))(out)\n",
    "out = keras.layers.Lambda(lambda x:keras.backend.permute_dimensions(x,(0,1,3,2,4)))(out)\n",
    "out = layers.TimeDistributed(layers.Conv2D(256, 1, activation='relu', strides=1,kernel_initializer='glorot_normal',use_bias=False))(out)\n",
    "out = layers.Reshape((4,4*6*256))(out)\n",
    "out = layers.TimeDistributed(layers.Dense(256, activation='relu', name='fc1'))(out) # N * 4 * 256\n",
    "out = layers.TimeDistributed(layers.Dropout(0.5))(out)\n",
    "out = layers.TimeDistributed(layers.Dense(62, activation='linear', name='dense_class'))(out)  # N * 4 * 64"
   ]
  },
  {
   "cell_type": "code",
   "execution_count": 53,
   "metadata": {},
   "outputs": [
    {
     "name": "stdout",
     "output_type": "stream",
     "text": [
      "__________________________________________________________________________________________________\n",
      "Layer (type)                    Output Shape         Param #     Connected to                     \n",
      "==================================================================================================\n",
      "img (InputLayer)                (None, 40, 120, 3)   0                                            \n",
      "__________________________________________________________________________________________________\n",
      "conv2d_17 (Conv2D)              (None, 40, 120, 32)  864         img[0][0]                        \n",
      "__________________________________________________________________________________________________\n",
      "batch_normalization_13 (BatchNo (None, 40, 120, 32)  128         conv2d_17[0][0]                  \n",
      "__________________________________________________________________________________________________\n",
      "conv2d_18 (Conv2D)              (None, 20, 60, 64)   18432       batch_normalization_13[0][0]     \n",
      "__________________________________________________________________________________________________\n",
      "batch_normalization_14 (BatchNo (None, 20, 60, 64)   256         conv2d_18[0][0]                  \n",
      "__________________________________________________________________________________________________\n",
      "conv2d_19 (Conv2D)              (None, 20, 60, 64)   36864       batch_normalization_14[0][0]     \n",
      "__________________________________________________________________________________________________\n",
      "batch_normalization_15 (BatchNo (None, 20, 60, 64)   256         conv2d_19[0][0]                  \n",
      "__________________________________________________________________________________________________\n",
      "conv2d_20 (Conv2D)              (None, 20, 60, 64)   36864       batch_normalization_15[0][0]     \n",
      "__________________________________________________________________________________________________\n",
      "batch_normalization_16 (BatchNo (None, 20, 60, 64)   256         conv2d_20[0][0]                  \n",
      "__________________________________________________________________________________________________\n",
      "add_6 (Add)                     (None, 20, 60, 64)   0           batch_normalization_16[0][0]     \n",
      "                                                                 batch_normalization_14[0][0]     \n",
      "__________________________________________________________________________________________________\n",
      "re_lu_6 (ReLU)                  (None, 20, 60, 64)   0           add_6[0][0]                      \n",
      "__________________________________________________________________________________________________\n",
      "conv2d_21 (Conv2D)              (None, 10, 30, 64)   36864       re_lu_6[0][0]                    \n",
      "__________________________________________________________________________________________________\n",
      "batch_normalization_17 (BatchNo (None, 10, 30, 64)   256         conv2d_21[0][0]                  \n",
      "__________________________________________________________________________________________________\n",
      "conv2d_22 (Conv2D)              (None, 10, 30, 64)   36864       batch_normalization_17[0][0]     \n",
      "__________________________________________________________________________________________________\n",
      "batch_normalization_18 (BatchNo (None, 10, 30, 64)   256         conv2d_22[0][0]                  \n",
      "__________________________________________________________________________________________________\n",
      "conv2d_23 (Conv2D)              (None, 10, 30, 64)   4096        re_lu_6[0][0]                    \n",
      "__________________________________________________________________________________________________\n",
      "add_7 (Add)                     (None, 10, 30, 64)   0           batch_normalization_18[0][0]     \n",
      "                                                                 conv2d_23[0][0]                  \n",
      "__________________________________________________________________________________________________\n",
      "re_lu_7 (ReLU)                  (None, 10, 30, 64)   0           add_7[0][0]                      \n",
      "__________________________________________________________________________________________________\n",
      "conv2d_24 (Conv2D)              (None, 10, 30, 64)   36864       re_lu_7[0][0]                    \n",
      "__________________________________________________________________________________________________\n",
      "batch_normalization_19 (BatchNo (None, 10, 30, 64)   256         conv2d_24[0][0]                  \n",
      "__________________________________________________________________________________________________\n",
      "conv2d_25 (Conv2D)              (None, 10, 30, 64)   36864       batch_normalization_19[0][0]     \n",
      "__________________________________________________________________________________________________\n",
      "batch_normalization_20 (BatchNo (None, 10, 30, 64)   256         conv2d_25[0][0]                  \n",
      "__________________________________________________________________________________________________\n",
      "add_8 (Add)                     (None, 10, 30, 64)   0           batch_normalization_20[0][0]     \n",
      "                                                                 re_lu_7[0][0]                    \n",
      "__________________________________________________________________________________________________\n",
      "re_lu_8 (ReLU)                  (None, 10, 30, 64)   0           add_8[0][0]                      \n",
      "__________________________________________________________________________________________________\n",
      "zero_padding2d_3 (ZeroPadding2D (None, 14, 34, 64)   0           re_lu_8[0][0]                    \n",
      "__________________________________________________________________________________________________\n",
      "conv2d_26 (Conv2D)              (None, 6, 16, 128)   73728       zero_padding2d_3[0][0]           \n",
      "__________________________________________________________________________________________________\n",
      "batch_normalization_21 (BatchNo (None, 6, 16, 128)   512         conv2d_26[0][0]                  \n",
      "__________________________________________________________________________________________________\n",
      "conv2d_27 (Conv2D)              (None, 6, 16, 128)   147456      batch_normalization_21[0][0]     \n",
      "__________________________________________________________________________________________________\n",
      "zero_padding2d_4 (ZeroPadding2D (None, 12, 32, 64)   0           re_lu_8[0][0]                    \n",
      "__________________________________________________________________________________________________\n",
      "batch_normalization_22 (BatchNo (None, 6, 16, 128)   512         conv2d_27[0][0]                  \n",
      "__________________________________________________________________________________________________\n",
      "conv2d_28 (Conv2D)              (None, 6, 16, 128)   8192        zero_padding2d_4[0][0]           \n",
      "__________________________________________________________________________________________________\n",
      "add_9 (Add)                     (None, 6, 16, 128)   0           batch_normalization_22[0][0]     \n",
      "                                                                 conv2d_28[0][0]                  \n",
      "__________________________________________________________________________________________________\n",
      "re_lu_9 (ReLU)                  (None, 6, 16, 128)   0           add_9[0][0]                      \n",
      "__________________________________________________________________________________________________\n",
      "conv2d_29 (Conv2D)              (None, 6, 16, 256)   294912      re_lu_9[0][0]                    \n",
      "__________________________________________________________________________________________________\n",
      "batch_normalization_23 (BatchNo (None, 6, 16, 256)   1024        conv2d_29[0][0]                  \n",
      "__________________________________________________________________________________________________\n",
      "conv2d_30 (Conv2D)              (None, 6, 16, 256)   589824      batch_normalization_23[0][0]     \n",
      "__________________________________________________________________________________________________\n",
      "batch_normalization_24 (BatchNo (None, 6, 16, 256)   1024        conv2d_30[0][0]                  \n",
      "__________________________________________________________________________________________________\n",
      "conv2d_31 (Conv2D)              (None, 6, 16, 256)   32768       re_lu_9[0][0]                    \n",
      "__________________________________________________________________________________________________\n",
      "add_10 (Add)                    (None, 6, 16, 256)   0           batch_normalization_24[0][0]     \n",
      "                                                                 conv2d_31[0][0]                  \n",
      "__________________________________________________________________________________________________\n",
      "re_lu_10 (ReLU)                 (None, 6, 16, 256)   0           add_10[0][0]                     \n",
      "__________________________________________________________________________________________________\n",
      "lambda_3 (Lambda)               (None, 16, 6, 256)   0           re_lu_10[0][0]                   \n",
      "__________________________________________________________________________________________________\n",
      "reshape_3 (Reshape)             (None, 4, 6, 4, 256) 0           lambda_3[0][0]                   \n",
      "__________________________________________________________________________________________________\n",
      "lambda_4 (Lambda)               (None, 4, 4, 6, 256) 0           reshape_3[0][0]                  \n",
      "__________________________________________________________________________________________________\n",
      "time_distributed_5 (TimeDistrib (None, 4, 4, 6, 256) 65536       lambda_4[0][0]                   \n",
      "__________________________________________________________________________________________________\n",
      "reshape_4 (Reshape)             (None, 4, 6144)      0           time_distributed_5[0][0]         \n",
      "__________________________________________________________________________________________________\n",
      "time_distributed_6 (TimeDistrib (None, 4, 256)       1573120     reshape_4[0][0]                  \n",
      "__________________________________________________________________________________________________\n",
      "time_distributed_7 (TimeDistrib (None, 4, 256)       0           time_distributed_6[0][0]         \n",
      "__________________________________________________________________________________________________\n",
      "time_distributed_8 (TimeDistrib (None, 4, 62)        15934       time_distributed_7[0][0]         \n",
      "==================================================================================================\n",
      "Total params: 3,051,038\n",
      "Trainable params: 3,048,542\n",
      "Non-trainable params: 2,496\n",
      "__________________________________________________________________________________________________\n"
     ]
    }
   ],
   "source": [
    "model.summary()"
   ]
  },
  {
   "cell_type": "code",
   "execution_count": 118,
   "metadata": {},
   "outputs": [],
   "source": [
    "def softmax_sparse_crossentropy(y_true, y_pred):\n",
    "    y_pred = K.reshape(y_pred, (-1, K.int_shape(y_pred)[-1]))\n",
    "    log_softmax = tf.nn.log_softmax(y_pred)\n",
    "\n",
    "    #y_true = K.one_hot(tf.to_int32(K.flatten(y_true)), K.int_shape(y_pred)[-1]+1)\n",
    "    #unpacked = tf.unstack(y_true, axis=-1)\n",
    "    #y_true = tf.stack(unpacked[:-1], axis=-1)\n",
    "    y_true = K.reshape(y_true, (-1, K.int_shape(y_pred)[-1]))\n",
    "    cross_entropy = -K.sum(y_true * log_softmax, axis=1)\n",
    "    cross_entropy_mean = K.mean(cross_entropy)\n",
    "\n",
    "    return cross_entropy_mean\n",
    "\n",
    "def sparse_accuracy(y_true, y_pred):\n",
    "   \n",
    "    nb_classes = K.int_shape(y_pred)[-1]\n",
    "    \n",
    "    return K.sum(tf.to_float( tf.reduce_all((K.equal(K.argmax(y_true, axis=-1), K.argmax(y_pred, axis=-1))),axis=1)))/45"
   ]
  },
  {
   "cell_type": "code",
   "execution_count": 119,
   "metadata": {
    "scrolled": false
   },
   "outputs": [],
   "source": [
    "optimizer = keras.optimizers.RMSprop(lr=0.0005)\n",
    "model.compile(optimizer=optimizer,\n",
    "             loss=softmax_sparse_crossentropy,\n",
    "             metrics=[sparse_accuracy])"
   ]
  },
  {
   "cell_type": "code",
   "execution_count": 120,
   "metadata": {
    "scrolled": false
   },
   "outputs": [
    {
     "name": "stdout",
     "output_type": "stream",
     "text": [
      "Train on 4500 samples, validate on 500 samples\n",
      "Epoch 1/70\n",
      "4500/4500 [==============================] - 19s 4ms/step - loss: 5.0715 - sparse_accuracy: 0.0000e+00 - val_loss: 4.5589 - val_sparse_accuracy: 0.0000e+00\n",
      "Epoch 2/70\n",
      "4500/4500 [==============================] - 12s 3ms/step - loss: 3.4336 - sparse_accuracy: 0.0022 - val_loss: 2.2751 - val_sparse_accuracy: 0.0420\n",
      "Epoch 3/70\n",
      "4500/4500 [==============================] - 12s 3ms/step - loss: 1.4779 - sparse_accuracy: 0.1484 - val_loss: 0.7774 - val_sparse_accuracy: 0.4360\n",
      "Epoch 4/70\n",
      "4500/4500 [==============================] - 12s 3ms/step - loss: 0.6013 - sparse_accuracy: 0.5051 - val_loss: 0.3120 - val_sparse_accuracy: 0.7207\n",
      "Epoch 5/70\n",
      "4500/4500 [==============================] - 12s 3ms/step - loss: 0.3117 - sparse_accuracy: 0.7107 - val_loss: 0.2957 - val_sparse_accuracy: 0.7147\n",
      "Epoch 6/70\n",
      "4500/4500 [==============================] - 12s 3ms/step - loss: 0.2045 - sparse_accuracy: 0.8024 - val_loss: 0.1946 - val_sparse_accuracy: 0.8309\n",
      "Epoch 7/70\n",
      "4500/4500 [==============================] - 12s 3ms/step - loss: 0.1218 - sparse_accuracy: 0.8638 - val_loss: 0.1590 - val_sparse_accuracy: 0.8609\n",
      "Epoch 8/70\n",
      "4500/4500 [==============================] - 12s 3ms/step - loss: 0.0898 - sparse_accuracy: 0.9009 - val_loss: 0.1473 - val_sparse_accuracy: 0.8767\n",
      "Epoch 9/70\n",
      "4500/4500 [==============================] - 12s 3ms/step - loss: 0.0654 - sparse_accuracy: 0.9236 - val_loss: 0.1335 - val_sparse_accuracy: 0.8869\n",
      "Epoch 10/70\n",
      "4500/4500 [==============================] - 12s 3ms/step - loss: 0.0524 - sparse_accuracy: 0.9373 - val_loss: 0.1276 - val_sparse_accuracy: 0.8831\n",
      "Epoch 11/70\n",
      "4500/4500 [==============================] - 12s 3ms/step - loss: 0.0440 - sparse_accuracy: 0.9487 - val_loss: 0.1167 - val_sparse_accuracy: 0.9149\n",
      "Epoch 12/70\n",
      "4500/4500 [==============================] - 12s 3ms/step - loss: 0.0337 - sparse_accuracy: 0.9600 - val_loss: 0.1374 - val_sparse_accuracy: 0.8871\n",
      "Epoch 13/70\n",
      "4500/4500 [==============================] - 12s 3ms/step - loss: 0.0335 - sparse_accuracy: 0.9571 - val_loss: 0.1267 - val_sparse_accuracy: 0.9009\n",
      "Epoch 14/70\n",
      "4500/4500 [==============================] - 12s 3ms/step - loss: 0.0265 - sparse_accuracy: 0.9651 - val_loss: 0.1339 - val_sparse_accuracy: 0.9069\n",
      "Epoch 15/70\n",
      "4500/4500 [==============================] - 12s 3ms/step - loss: 0.0309 - sparse_accuracy: 0.9638 - val_loss: 0.1162 - val_sparse_accuracy: 0.9187\n",
      "Epoch 16/70\n",
      "4500/4500 [==============================] - 12s 3ms/step - loss: 0.0216 - sparse_accuracy: 0.9722 - val_loss: 0.1437 - val_sparse_accuracy: 0.9029\n",
      "Epoch 17/70\n",
      "4500/4500 [==============================] - 12s 3ms/step - loss: 0.0245 - sparse_accuracy: 0.9722 - val_loss: 0.1279 - val_sparse_accuracy: 0.9169\n",
      "Epoch 18/70\n",
      "4500/4500 [==============================] - 12s 3ms/step - loss: 0.0204 - sparse_accuracy: 0.9756 - val_loss: 0.1352 - val_sparse_accuracy: 0.8951\n",
      "Epoch 19/70\n",
      "4500/4500 [==============================] - 12s 3ms/step - loss: 0.0158 - sparse_accuracy: 0.9807 - val_loss: 0.1245 - val_sparse_accuracy: 0.9009\n",
      "Epoch 20/70\n",
      "4500/4500 [==============================] - 12s 3ms/step - loss: 0.0167 - sparse_accuracy: 0.9789 - val_loss: 0.0987 - val_sparse_accuracy: 0.9369\n",
      "Epoch 21/70\n",
      "4500/4500 [==============================] - 12s 3ms/step - loss: 0.0153 - sparse_accuracy: 0.9789 - val_loss: 0.1320 - val_sparse_accuracy: 0.9169\n",
      "Epoch 22/70\n",
      "4500/4500 [==============================] - 12s 3ms/step - loss: 0.0164 - sparse_accuracy: 0.9816 - val_loss: 0.1150 - val_sparse_accuracy: 0.9111\n",
      "Epoch 23/70\n",
      "4500/4500 [==============================] - 12s 3ms/step - loss: 0.0165 - sparse_accuracy: 0.9804 - val_loss: 0.1118 - val_sparse_accuracy: 0.9229\n",
      "Epoch 24/70\n",
      "4500/4500 [==============================] - 12s 3ms/step - loss: 0.0138 - sparse_accuracy: 0.9829 - val_loss: 0.1064 - val_sparse_accuracy: 0.9369\n",
      "Epoch 25/70\n",
      "4500/4500 [==============================] - 12s 3ms/step - loss: 0.0119 - sparse_accuracy: 0.9851 - val_loss: 0.1299 - val_sparse_accuracy: 0.9169\n",
      "Epoch 26/70\n",
      "4500/4500 [==============================] - 12s 3ms/step - loss: 0.0145 - sparse_accuracy: 0.9851 - val_loss: 0.1293 - val_sparse_accuracy: 0.9247\n",
      "Epoch 27/70\n",
      "4500/4500 [==============================] - 12s 3ms/step - loss: 0.0113 - sparse_accuracy: 0.9853 - val_loss: 0.1300 - val_sparse_accuracy: 0.9209\n",
      "Epoch 28/70\n",
      "4500/4500 [==============================] - 12s 3ms/step - loss: 0.0085 - sparse_accuracy: 0.9900 - val_loss: 0.1318 - val_sparse_accuracy: 0.9227\n",
      "Epoch 29/70\n",
      "4500/4500 [==============================] - 12s 3ms/step - loss: 0.0118 - sparse_accuracy: 0.9860 - val_loss: 0.1239 - val_sparse_accuracy: 0.9271\n",
      "Epoch 30/70\n",
      "4500/4500 [==============================] - 12s 3ms/step - loss: 0.0077 - sparse_accuracy: 0.9882 - val_loss: 0.1304 - val_sparse_accuracy: 0.9211\n",
      "Epoch 31/70\n",
      "4500/4500 [==============================] - 12s 3ms/step - loss: 0.0094 - sparse_accuracy: 0.9882 - val_loss: 0.1929 - val_sparse_accuracy: 0.9089\n",
      "Epoch 32/70\n",
      "4500/4500 [==============================] - 12s 3ms/step - loss: 0.0077 - sparse_accuracy: 0.9884 - val_loss: 0.1365 - val_sparse_accuracy: 0.9247\n",
      "Epoch 33/70\n",
      "4500/4500 [==============================] - 12s 3ms/step - loss: 0.0095 - sparse_accuracy: 0.9893 - val_loss: 0.1385 - val_sparse_accuracy: 0.9129\n",
      "Epoch 34/70\n",
      "4500/4500 [==============================] - 12s 3ms/step - loss: 0.0086 - sparse_accuracy: 0.9882 - val_loss: 0.1310 - val_sparse_accuracy: 0.9271\n",
      "Epoch 35/70\n",
      "4500/4500 [==============================] - 12s 3ms/step - loss: 0.0107 - sparse_accuracy: 0.9904 - val_loss: 0.1182 - val_sparse_accuracy: 0.9187\n",
      "Epoch 36/70\n",
      "4500/4500 [==============================] - 12s 3ms/step - loss: 0.0089 - sparse_accuracy: 0.9878 - val_loss: 0.1016 - val_sparse_accuracy: 0.9249\n",
      "Epoch 37/70\n",
      "4500/4500 [==============================] - 12s 3ms/step - loss: 0.0064 - sparse_accuracy: 0.9936 - val_loss: 0.0981 - val_sparse_accuracy: 0.9331\n",
      "Epoch 38/70\n",
      "4500/4500 [==============================] - 12s 3ms/step - loss: 0.0048 - sparse_accuracy: 0.9936 - val_loss: 0.1370 - val_sparse_accuracy: 0.9249\n",
      "Epoch 39/70\n",
      "4500/4500 [==============================] - 12s 3ms/step - loss: 0.0057 - sparse_accuracy: 0.9922 - val_loss: 0.1294 - val_sparse_accuracy: 0.9349\n",
      "Epoch 40/70\n",
      "4500/4500 [==============================] - 12s 3ms/step - loss: 0.0058 - sparse_accuracy: 0.9938 - val_loss: 0.1176 - val_sparse_accuracy: 0.9329\n",
      "Epoch 41/70\n",
      "4500/4500 [==============================] - 12s 3ms/step - loss: 0.0086 - sparse_accuracy: 0.9916 - val_loss: 0.1270 - val_sparse_accuracy: 0.9271\n",
      "Epoch 42/70\n",
      "4500/4500 [==============================] - 12s 3ms/step - loss: 0.0060 - sparse_accuracy: 0.9920 - val_loss: 0.1172 - val_sparse_accuracy: 0.9209\n",
      "Epoch 43/70\n",
      "4500/4500 [==============================] - 34s 7ms/step - loss: 0.0045 - sparse_accuracy: 0.9942 - val_loss: 0.0997 - val_sparse_accuracy: 0.9367\n",
      "Epoch 44/70\n",
      "2385/4500 [==============>...............] - ETA: 18s - loss: 0.0071 - sparse_accuracy: 0.9916"
     ]
    },
    {
     "ename": "KeyboardInterrupt",
     "evalue": "",
     "output_type": "error",
     "traceback": [
      "\u001b[1;31m---------------------------------------------------------------------------\u001b[0m",
      "\u001b[1;31mKeyboardInterrupt\u001b[0m                         Traceback (most recent call last)",
      "\u001b[1;32m<ipython-input-120-02cf60de2e11>\u001b[0m in \u001b[0;36m<module>\u001b[1;34m\u001b[0m\n\u001b[1;32m----> 1\u001b[1;33m \u001b[0mhistory_n\u001b[0m \u001b[1;33m=\u001b[0m \u001b[0mmodel\u001b[0m\u001b[1;33m.\u001b[0m\u001b[0mfit\u001b[0m\u001b[1;33m(\u001b[0m\u001b[0mimages\u001b[0m\u001b[1;33m,\u001b[0m \u001b[0mlabels\u001b[0m\u001b[1;33m.\u001b[0m\u001b[0mreshape\u001b[0m\u001b[1;33m(\u001b[0m\u001b[1;36m5000\u001b[0m\u001b[1;33m,\u001b[0m\u001b[1;36m4\u001b[0m\u001b[1;33m,\u001b[0m\u001b[1;36m62\u001b[0m\u001b[1;33m)\u001b[0m \u001b[1;33m,\u001b[0m \u001b[0mepochs\u001b[0m\u001b[1;33m=\u001b[0m\u001b[1;36m70\u001b[0m\u001b[1;33m,\u001b[0m \u001b[0mbatch_size\u001b[0m\u001b[1;33m=\u001b[0m\u001b[1;36m45\u001b[0m\u001b[1;33m,\u001b[0m \u001b[0mvalidation_split\u001b[0m\u001b[1;33m=\u001b[0m\u001b[1;36m0.1\u001b[0m\u001b[1;33m,\u001b[0m\u001b[1;33m)\u001b[0m\u001b[1;33m\u001b[0m\u001b[1;33m\u001b[0m\u001b[0m\n\u001b[0m",
      "\u001b[1;32mE:\\Study\\Anaconda\\envs\\keras-gpu\\lib\\site-packages\\keras\\engine\\training.py\u001b[0m in \u001b[0;36mfit\u001b[1;34m(self, x, y, batch_size, epochs, verbose, callbacks, validation_split, validation_data, shuffle, class_weight, sample_weight, initial_epoch, steps_per_epoch, validation_steps, **kwargs)\u001b[0m\n\u001b[0;32m   1037\u001b[0m                                         \u001b[0minitial_epoch\u001b[0m\u001b[1;33m=\u001b[0m\u001b[0minitial_epoch\u001b[0m\u001b[1;33m,\u001b[0m\u001b[1;33m\u001b[0m\u001b[1;33m\u001b[0m\u001b[0m\n\u001b[0;32m   1038\u001b[0m                                         \u001b[0msteps_per_epoch\u001b[0m\u001b[1;33m=\u001b[0m\u001b[0msteps_per_epoch\u001b[0m\u001b[1;33m,\u001b[0m\u001b[1;33m\u001b[0m\u001b[1;33m\u001b[0m\u001b[0m\n\u001b[1;32m-> 1039\u001b[1;33m                                         validation_steps=validation_steps)\n\u001b[0m\u001b[0;32m   1040\u001b[0m \u001b[1;33m\u001b[0m\u001b[0m\n\u001b[0;32m   1041\u001b[0m     def evaluate(self, x=None, y=None,\n",
      "\u001b[1;32mE:\\Study\\Anaconda\\envs\\keras-gpu\\lib\\site-packages\\keras\\engine\\training_arrays.py\u001b[0m in \u001b[0;36mfit_loop\u001b[1;34m(model, f, ins, out_labels, batch_size, epochs, verbose, callbacks, val_f, val_ins, shuffle, callback_metrics, initial_epoch, steps_per_epoch, validation_steps)\u001b[0m\n\u001b[0;32m    197\u001b[0m                     \u001b[0mins_batch\u001b[0m\u001b[1;33m[\u001b[0m\u001b[0mi\u001b[0m\u001b[1;33m]\u001b[0m \u001b[1;33m=\u001b[0m \u001b[0mins_batch\u001b[0m\u001b[1;33m[\u001b[0m\u001b[0mi\u001b[0m\u001b[1;33m]\u001b[0m\u001b[1;33m.\u001b[0m\u001b[0mtoarray\u001b[0m\u001b[1;33m(\u001b[0m\u001b[1;33m)\u001b[0m\u001b[1;33m\u001b[0m\u001b[1;33m\u001b[0m\u001b[0m\n\u001b[0;32m    198\u001b[0m \u001b[1;33m\u001b[0m\u001b[0m\n\u001b[1;32m--> 199\u001b[1;33m                 \u001b[0mouts\u001b[0m \u001b[1;33m=\u001b[0m \u001b[0mf\u001b[0m\u001b[1;33m(\u001b[0m\u001b[0mins_batch\u001b[0m\u001b[1;33m)\u001b[0m\u001b[1;33m\u001b[0m\u001b[1;33m\u001b[0m\u001b[0m\n\u001b[0m\u001b[0;32m    200\u001b[0m                 \u001b[0mouts\u001b[0m \u001b[1;33m=\u001b[0m \u001b[0mto_list\u001b[0m\u001b[1;33m(\u001b[0m\u001b[0mouts\u001b[0m\u001b[1;33m)\u001b[0m\u001b[1;33m\u001b[0m\u001b[1;33m\u001b[0m\u001b[0m\n\u001b[0;32m    201\u001b[0m                 \u001b[1;32mfor\u001b[0m \u001b[0ml\u001b[0m\u001b[1;33m,\u001b[0m \u001b[0mo\u001b[0m \u001b[1;32min\u001b[0m \u001b[0mzip\u001b[0m\u001b[1;33m(\u001b[0m\u001b[0mout_labels\u001b[0m\u001b[1;33m,\u001b[0m \u001b[0mouts\u001b[0m\u001b[1;33m)\u001b[0m\u001b[1;33m:\u001b[0m\u001b[1;33m\u001b[0m\u001b[1;33m\u001b[0m\u001b[0m\n",
      "\u001b[1;32mE:\\Study\\Anaconda\\envs\\keras-gpu\\lib\\site-packages\\keras\\backend\\tensorflow_backend.py\u001b[0m in \u001b[0;36m__call__\u001b[1;34m(self, inputs)\u001b[0m\n\u001b[0;32m   2713\u001b[0m                 \u001b[1;32mreturn\u001b[0m \u001b[0mself\u001b[0m\u001b[1;33m.\u001b[0m\u001b[0m_legacy_call\u001b[0m\u001b[1;33m(\u001b[0m\u001b[0minputs\u001b[0m\u001b[1;33m)\u001b[0m\u001b[1;33m\u001b[0m\u001b[1;33m\u001b[0m\u001b[0m\n\u001b[0;32m   2714\u001b[0m \u001b[1;33m\u001b[0m\u001b[0m\n\u001b[1;32m-> 2715\u001b[1;33m             \u001b[1;32mreturn\u001b[0m \u001b[0mself\u001b[0m\u001b[1;33m.\u001b[0m\u001b[0m_call\u001b[0m\u001b[1;33m(\u001b[0m\u001b[0minputs\u001b[0m\u001b[1;33m)\u001b[0m\u001b[1;33m\u001b[0m\u001b[1;33m\u001b[0m\u001b[0m\n\u001b[0m\u001b[0;32m   2716\u001b[0m         \u001b[1;32melse\u001b[0m\u001b[1;33m:\u001b[0m\u001b[1;33m\u001b[0m\u001b[1;33m\u001b[0m\u001b[0m\n\u001b[0;32m   2717\u001b[0m             \u001b[1;32mif\u001b[0m \u001b[0mpy_any\u001b[0m\u001b[1;33m(\u001b[0m\u001b[0mis_tensor\u001b[0m\u001b[1;33m(\u001b[0m\u001b[0mx\u001b[0m\u001b[1;33m)\u001b[0m \u001b[1;32mfor\u001b[0m \u001b[0mx\u001b[0m \u001b[1;32min\u001b[0m \u001b[0minputs\u001b[0m\u001b[1;33m)\u001b[0m\u001b[1;33m:\u001b[0m\u001b[1;33m\u001b[0m\u001b[1;33m\u001b[0m\u001b[0m\n",
      "\u001b[1;32mE:\\Study\\Anaconda\\envs\\keras-gpu\\lib\\site-packages\\keras\\backend\\tensorflow_backend.py\u001b[0m in \u001b[0;36m_call\u001b[1;34m(self, inputs)\u001b[0m\n\u001b[0;32m   2673\u001b[0m             \u001b[0mfetched\u001b[0m \u001b[1;33m=\u001b[0m \u001b[0mself\u001b[0m\u001b[1;33m.\u001b[0m\u001b[0m_callable_fn\u001b[0m\u001b[1;33m(\u001b[0m\u001b[1;33m*\u001b[0m\u001b[0marray_vals\u001b[0m\u001b[1;33m,\u001b[0m \u001b[0mrun_metadata\u001b[0m\u001b[1;33m=\u001b[0m\u001b[0mself\u001b[0m\u001b[1;33m.\u001b[0m\u001b[0mrun_metadata\u001b[0m\u001b[1;33m)\u001b[0m\u001b[1;33m\u001b[0m\u001b[1;33m\u001b[0m\u001b[0m\n\u001b[0;32m   2674\u001b[0m         \u001b[1;32melse\u001b[0m\u001b[1;33m:\u001b[0m\u001b[1;33m\u001b[0m\u001b[1;33m\u001b[0m\u001b[0m\n\u001b[1;32m-> 2675\u001b[1;33m             \u001b[0mfetched\u001b[0m \u001b[1;33m=\u001b[0m \u001b[0mself\u001b[0m\u001b[1;33m.\u001b[0m\u001b[0m_callable_fn\u001b[0m\u001b[1;33m(\u001b[0m\u001b[1;33m*\u001b[0m\u001b[0marray_vals\u001b[0m\u001b[1;33m)\u001b[0m\u001b[1;33m\u001b[0m\u001b[1;33m\u001b[0m\u001b[0m\n\u001b[0m\u001b[0;32m   2676\u001b[0m         \u001b[1;32mreturn\u001b[0m \u001b[0mfetched\u001b[0m\u001b[1;33m[\u001b[0m\u001b[1;33m:\u001b[0m\u001b[0mlen\u001b[0m\u001b[1;33m(\u001b[0m\u001b[0mself\u001b[0m\u001b[1;33m.\u001b[0m\u001b[0moutputs\u001b[0m\u001b[1;33m)\u001b[0m\u001b[1;33m]\u001b[0m\u001b[1;33m\u001b[0m\u001b[1;33m\u001b[0m\u001b[0m\n\u001b[0;32m   2677\u001b[0m \u001b[1;33m\u001b[0m\u001b[0m\n",
      "\u001b[1;32mE:\\Study\\Anaconda\\envs\\keras-gpu\\lib\\site-packages\\tensorflow\\python\\client\\session.py\u001b[0m in \u001b[0;36m__call__\u001b[1;34m(self, *args, **kwargs)\u001b[0m\n\u001b[0;32m   1456\u001b[0m         ret = tf_session.TF_SessionRunCallable(self._session._session,\n\u001b[0;32m   1457\u001b[0m                                                \u001b[0mself\u001b[0m\u001b[1;33m.\u001b[0m\u001b[0m_handle\u001b[0m\u001b[1;33m,\u001b[0m \u001b[0margs\u001b[0m\u001b[1;33m,\u001b[0m\u001b[1;33m\u001b[0m\u001b[1;33m\u001b[0m\u001b[0m\n\u001b[1;32m-> 1458\u001b[1;33m                                                run_metadata_ptr)\n\u001b[0m\u001b[0;32m   1459\u001b[0m         \u001b[1;32mif\u001b[0m \u001b[0mrun_metadata\u001b[0m\u001b[1;33m:\u001b[0m\u001b[1;33m\u001b[0m\u001b[1;33m\u001b[0m\u001b[0m\n\u001b[0;32m   1460\u001b[0m           \u001b[0mproto_data\u001b[0m \u001b[1;33m=\u001b[0m \u001b[0mtf_session\u001b[0m\u001b[1;33m.\u001b[0m\u001b[0mTF_GetBuffer\u001b[0m\u001b[1;33m(\u001b[0m\u001b[0mrun_metadata_ptr\u001b[0m\u001b[1;33m)\u001b[0m\u001b[1;33m\u001b[0m\u001b[1;33m\u001b[0m\u001b[0m\n",
      "\u001b[1;31mKeyboardInterrupt\u001b[0m: "
     ]
    }
   ],
   "source": [
    "history_n = model.fit(images, labels.reshape(5000,4,62) , epochs=70, batch_size=45, validation_split=0.1,)"
   ]
  },
  {
   "cell_type": "code",
   "execution_count": 107,
   "metadata": {},
   "outputs": [
    {
     "data": {
      "image/png": "[encoded data removed]",
      "text/plain": [
       "<Figure size 1296x432 with 2 Axes>"
      ]
     },
     "metadata": {
      "needs_background": "light"
     },
     "output_type": "display_data"
    }
   ],
   "source": [
    "def plot_histroy(history):\n",
    "    plt.figure(figsize=(18,6))\n",
    "    acc = history.history['sparse_accuracy']\n",
    "    val_acc = history.history['val_sparse_accuracy']\n",
    "    loss = history.history['loss']\n",
    "    val_loss = history.history['val_loss']\n",
    "\n",
    "    epochs = range(len(acc))\n",
    "    plt.subplot(121)\n",
    "    plt.plot(epochs, acc, 'bo', label='Training acc')\n",
    "    plt.plot(epochs, val_acc, 'b', label='Validation acc')\n",
    "    plt.title('Training and validation accuracy')\n",
    "    plt.legend()\n",
    "\n",
    "    plt.subplot(122)\n",
    "    plt.plot(epochs, loss, 'bo', label='Training loss')\n",
    "    plt.plot(epochs, val_loss, 'b', label='Validation loss')\n",
    "    plt.title('Training and validation loss')\n",
    "    plt.legend()\n",
    "plot_histroy(history_n)"
   ]
  },
  {
   "cell_type": "code",
   "execution_count": 39,
   "metadata": {},
   "outputs": [],
   "source": [
    "model.save('hfy_easy_60.h5')"
   ]
  },
  {
   "cell_type": "markdown",
   "metadata": {},
   "source": [
    "# 6 + 1 30 epoches lr=0.001\n",
    "    loss: 0.0097 - sparse_accuracy: 0.9927 - val_loss: 0.2330 - val_sparse_accuracy: 0.9240\n",
    "# 5 + 1 30 epoches lr=0.001\n",
    "    loss: 0.0082 - sparse_accuracy: 0.9940 - val_loss: 0.1869 - val_sparse_accuracy: 0.9180\n",
    "# 6 + 0 30 epoches lr=0.001\n",
    "    loss: 4.8120e-05 - sparse_accuracy: 0.9998 - val_loss: 0.5913 - val_sparse_accuracy: 0.8360\n",
    "# 7 + 1 30 epoches lr=0.01\n",
    "    0\n",
    "\n",
    "\n",
    "import tensorflow as tf\n",
    "x = tf.constant(1)\n",
    "with tf.Session() as sess:\n",
    "    print sess.run(x)"
   ]
  },
  {
   "cell_type": "code",
   "execution_count": 16,
   "metadata": {},
   "outputs": [
    {
     "data": {
      "text/plain": [
       "0.9944"
      ]
     },
     "execution_count": 16,
     "metadata": {},
     "output_type": "execute_result"
    }
   ],
   "source": [
    "result = model.predict(images)\n",
    "np.equal(result.argmax(axis = -1),labels.argmax(axis = -1)).all(axis=1).sum()/result.shape[0]"
   ]
  },
  {
   "cell_type": "code",
   "execution_count": 37,
   "metadata": {},
   "outputs": [],
   "source": [
    "images_test = np.array([np.array(Image.open(os.path.join(base_path, 'test/%d.jpg'%(i+1)))) for i in range(5000)])\n",
    "result_test = model.predict(images_test)"
   ]
  },
  {
   "cell_type": "code",
   "execution_count": 33,
   "metadata": {},
   "outputs": [],
   "source": [
    "def decoder(x): # 5000 * 4 numpy\n",
    "    data = x.tolist()\n",
    "    def fun(i):\n",
    "        if i< 10:\n",
    "            return chr(i+48)\n",
    "        elif i>=36:\n",
    "            return chr(i+71-10) \n",
    "        else:\n",
    "            return chr(i+65-10)\n",
    "    data = [''.join([fun(i) for i in i]) for i in data]\n",
    "    return data"
   ]
  },
  {
   "cell_type": "code",
   "execution_count": 38,
   "metadata": {},
   "outputs": [],
   "source": [
    "to_csv = decoder(result_test.argmax(axis = -1))\n",
    "pd.DataFrame.from_dict({'ID': ['%d.jpg'%(i+1) for i in range(5000)], 'label': to_csv}).to_csv('hfy_easy_60.csv',index=None)"
   ]
  },
  {
   "cell_type": "code",
   "execution_count": null,
   "metadata": {},
   "outputs": [],
   "source": []
  }
 ],
 "metadata": {
  "kernelspec": {
   "display_name": "Python 3",
   "language": "python",
   "name": "python3"
  },
  "language_info": {
   "codemirror_mode": {
    "name": "ipython",
    "version": 3
   },
   "file_extension": ".py",
   "mimetype": "text/x-python",
   "name": "python",
   "nbconvert_exporter": "python",
   "pygments_lexer": "ipython3",
   "version": "3.7.4"
  }
 },
 "nbformat": 4,
 "nbformat_minor": 2
}
