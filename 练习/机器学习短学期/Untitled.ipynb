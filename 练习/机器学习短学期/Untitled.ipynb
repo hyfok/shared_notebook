{
 "cells": [
  {
   "cell_type": "markdown",
   "metadata": {},
   "source": [
    "# 1.数据清洗和特征工程\n",
    "填充\n",
    "- Age：使用Sex,Title,Pclass三个特征构建随机森林模型，填充年龄缺失值\n",
    "- Cabin：不同客舱的乘客幸存率不同 （新增Deck特征，先把Cabin空缺值填充为Unknown，再提取Cabin中的首字母构成乘客的甲板号）\n",
    "- embarked：根据这个个体的其他信息，直接填充\n",
    "\n",
    "新增特征\n",
    "- FamilyLabel：共票数与生存率的关系（统计每个乘客的共票数）\n",
    "- FamilySize：将直系亲属和旁系亲属合并，并根据数量划分成三个区间（Label）\n",
    "- Title：不同称呼的乘客幸存率不同(把name中的称呼都提取出来，并且对同个人具有多个称呼标签进行统一）\n",
    "\n",
    "异常值处理\n",
    "- 多人家庭中没有获救的女性和儿童为异常值\n",
    "- 普遍规律是女性和儿童的幸存率较高， 成年男性的幸存率较低，所以把不符合普遍规律的反常组选出来单独处理。 把女性和儿童组里幸存率为0的组设置为遇难组，成年男性组里存活率为1的组设为幸存组，推测处于遇难组的女性和儿童幸存的可能性可能较低，处于幸存组的成年男性幸存的可能性较高。\n",
    "\n",
    "特征转换\n",
    "- 采用独热编码技术，归一化处理\n",
    "\n",
    "特征选择\n",
    "\n",
    "`['Survived','Pclass','Sex','Age','Fare','Embarked','Title','FamilyLabel','Desk','TicketGroup']`"
   ]
  },
  {
   "cell_type": "markdown",
   "metadata": {},
   "source": [
    "# 2.模型设计\n",
    "1. 随机森林+网格搜索 0.86\n",
    "2. 残差神经网络 0.89"
   ]
  },
  {
   "cell_type": "code",
   "execution_count": null,
   "metadata": {},
   "outputs": [],
   "source": []
  }
 ],
 "metadata": {
  "kernelspec": {
   "display_name": "Python 3",
   "language": "python",
   "name": "python3"
  },
  "language_info": {
   "codemirror_mode": {
    "name": "ipython",
    "version": 3
   },
   "file_extension": ".py",
   "mimetype": "text/x-python",
   "name": "python",
   "nbconvert_exporter": "python",
   "pygments_lexer": "ipython3",
   "version": "3.7.4"
  }
 },
 "nbformat": 4,
 "nbformat_minor": 4
}
