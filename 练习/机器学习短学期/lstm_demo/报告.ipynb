{
 "cells": [
  {
   "cell_type": "markdown",
   "metadata": {},
   "source": [
    "# 1. 数据预处理\n",
    "- 小写化：将所有单词都小写化\n",
    "- 停用词：删除停用词-通常出现的单词并没有太多含义。 例如：“I”\n",
    "- 去噪：删除标点符号，数字等。"
   ]
  },
  {
   "cell_type": "code",
   "execution_count": 5,
   "metadata": {},
   "outputs": [
    {
     "data": {
      "text/html": [
       "<div>\n",
       "<style scoped>\n",
       "    .dataframe tbody tr th:only-of-type {\n",
       "        vertical-align: middle;\n",
       "    }\n",
       "\n",
       "    .dataframe tbody tr th {\n",
       "        vertical-align: top;\n",
       "    }\n",
       "\n",
       "    .dataframe thead th {\n",
       "        text-align: right;\n",
       "    }\n",
       "</style>\n",
       "<table border=\"1\" class=\"dataframe\">\n",
       "  <thead>\n",
       "    <tr style=\"text-align: right;\">\n",
       "      <th></th>\n",
       "      <th>id</th>\n",
       "      <th>keyword</th>\n",
       "      <th>location</th>\n",
       "      <th>text</th>\n",
       "      <th>target</th>\n",
       "    </tr>\n",
       "  </thead>\n",
       "  <tbody>\n",
       "    <tr>\n",
       "      <th>50</th>\n",
       "      <td>73</td>\n",
       "      <td>ablaze</td>\n",
       "      <td>Sheffield Township, Ohio</td>\n",
       "      <td>deputi man shot befor brighton home set ablaz</td>\n",
       "      <td>1</td>\n",
       "    </tr>\n",
       "    <tr>\n",
       "      <th>51</th>\n",
       "      <td>74</td>\n",
       "      <td>ablaze</td>\n",
       "      <td>India</td>\n",
       "      <td>man wife get six year jail set ablaz niec</td>\n",
       "      <td>1</td>\n",
       "    </tr>\n",
       "    <tr>\n",
       "      <th>52</th>\n",
       "      <td>76</td>\n",
       "      <td>ablaze</td>\n",
       "      <td>Barbados</td>\n",
       "      <td>santa cruz head st elizabeth polic superintend...</td>\n",
       "      <td>0</td>\n",
       "    </tr>\n",
       "    <tr>\n",
       "      <th>53</th>\n",
       "      <td>77</td>\n",
       "      <td>ablaze</td>\n",
       "      <td>Anaheim</td>\n",
       "      <td>polic arsonist deliber set black church in nor...</td>\n",
       "      <td>1</td>\n",
       "    </tr>\n",
       "    <tr>\n",
       "      <th>54</th>\n",
       "      <td>78</td>\n",
       "      <td>ablaze</td>\n",
       "      <td>Abuja</td>\n",
       "      <td>noch elbestia alexissanchez happi see my teamm...</td>\n",
       "      <td>0</td>\n",
       "    </tr>\n",
       "  </tbody>\n",
       "</table>\n",
       "</div>"
      ],
      "text/plain": [
       "    id keyword                  location  \\\n",
       "50  73  ablaze  Sheffield Township, Ohio   \n",
       "51  74  ablaze                     India   \n",
       "52  76  ablaze                  Barbados   \n",
       "53  77  ablaze                   Anaheim   \n",
       "54  78  ablaze                     Abuja   \n",
       "\n",
       "                                                 text  target  \n",
       "50      deputi man shot befor brighton home set ablaz       1  \n",
       "51          man wife get six year jail set ablaz niec       1  \n",
       "52  santa cruz head st elizabeth polic superintend...       0  \n",
       "53  polic arsonist deliber set black church in nor...       1  \n",
       "54  noch elbestia alexissanchez happi see my teamm...       0  "
      ]
     },
     "execution_count": 5,
     "metadata": {},
     "output_type": "execute_result"
    }
   ],
   "source": [
    "import pandas as pd\n",
    "train_data = pd.read_csv('data/train_data.csv')\n",
    "test_data = pd.read_csv('data/test_data.csv')\n",
    "train_data[50:55]"
   ]
  },
  {
   "cell_type": "markdown",
   "metadata": {},
   "source": [
    "# 2.特征编码\n",
    "- text特征：根据训练数据构建词典，将每个单词映射成一个整型。截至维度为30，即大于30个单词的text截断，小于30则补零。shape=(7613，30)\n",
    "- keyword特征:one-hot 编码。shape=(7613，222)"
   ]
  },
  {
   "cell_type": "markdown",
   "metadata": {},
   "source": [
    "# 3.模型设计\n",
    "- 网络架构\n",
    "- 特征融合\n",
    "- Embedding：词嵌入。希望近义词或者表示同类事物的单词之间的距离可以理想地近。\n",
    "- LSTM：循环神经网络的一种，可以更好地结合前后文信息（context）\n",
    "\n",
    "![fig2](model.jpg)\n",
    "![fig2](img1.jpg)\n",
    "![fig2](img2.jpg)\n",
    "![fig2](img3.png)"
   ]
  },
  {
   "cell_type": "markdown",
   "metadata": {},
   "source": [
    "将训练集的总数的0.8作为划分的新训练集，剩余的0.2作为验证集\n",
    "- 新训练集：6094\n",
    "- 验证集：1519"
   ]
  },
  {
   "cell_type": "code",
   "execution_count": 8,
   "metadata": {},
   "outputs": [
    {
     "data": {
      "text/plain": [
       "[<matplotlib.lines.Line2D at 0x1f24106bbc8>]"
      ]
     },
     "execution_count": 8,
     "metadata": {},
     "output_type": "execute_result"
    },
    {
     "data": {
      "image/png": "[encoded data removed]",
      "text/plain": [
       "<Figure size 432x288 with 1 Axes>"
      ]
     },
     "metadata": {
      "needs_background": "light"
     },
     "output_type": "display_data"
    }
   ],
   "source": [
    "import matplotlib.pyplot as plt\n",
    "train = [0.673,0.800,0.849,0.868,0.892,0.912,0.922,0.931,0.937,0.942,0.942,0.951,0.953,0.957,0.940,0.957,0.961,0.962,0.966,0.967]\n",
    "test = [0.699,0.731,0.741,0.728,0.734,0.724,0.717,0.716,0.700,0.693,0.710,0.699,0.696,0.694,0.704,0.701,0.689,0.698,0.707,0.691]\n",
    "plt.plot(train)\n",
    "plt.plot(test)"
   ]
  }
 ],
 "metadata": {
  "kernelspec": {
   "display_name": "Python 3",
   "language": "python",
   "name": "python3"
  },
  "language_info": {
   "codemirror_mode": {
    "name": "ipython",
    "version": 3
   },
   "file_extension": ".py",
   "mimetype": "text/x-python",
   "name": "python",
   "nbconvert_exporter": "python",
   "pygments_lexer": "ipython3",
   "version": "3.7.4"
  }
 },
 "nbformat": 4,
 "nbformat_minor": 4
}
