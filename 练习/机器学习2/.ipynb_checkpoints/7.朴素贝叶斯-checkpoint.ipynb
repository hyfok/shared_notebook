{
 "cells": [
  {
   "cell_type": "code",
   "execution_count": 1,
   "metadata": {},
   "outputs": [],
   "source": [
    "import numpy as np\n",
    "import pandas as pd"
   ]
  },
  {
   "cell_type": "code",
   "execution_count": 2,
   "metadata": {},
   "outputs": [],
   "source": [
    "class NB():\n",
    "    # 朴素贝叶斯\n",
    "    def __init__(self):\n",
    "        \"\"\"\n",
    "\n",
    "        \"\"\"\n",
    "    def train(self, X, y):\n",
    "\n",
    "        self.discrete_n = sum([type(i)==type('233') for i in X[0]])\n",
    "        self.continuous_n = len(X[0])-self.discrete_n\n",
    "        \n",
    "        discrete_good = X[np.array(y)=='是'][:,:self.discrete_n]\n",
    "        self.good_p = float(discrete_good.shape[0])/X.shape[0]\n",
    "        self.good_dict = np.unique(discrete_good) #构建离散属性字典（好）\n",
    "        self.good_discrete_p = np.array([float(np.sum(discrete_good==i)) for i in self.good_dict])/discrete_good.shape[0]\n",
    "        continuous_good = X[np.array(y)=='是'][:,self.discrete_n:]\n",
    "        self.good_mu,self.good_var = np.mean(continuous_good,axis=0).astype('float32'),np.var(continuous_good,axis=0).astype('float32')\n",
    "        \n",
    "        discrete_bad = X[np.array(y)=='否'][:,:self.discrete_n]\n",
    "        self.bad_p = float(discrete_bad.shape[0])/X.shape[0]\n",
    "        self.bad_dict = np.unique(discrete_bad) #构建离散属性字典（坏）\n",
    "        self.bad_discrete_p = np.array([float(np.sum(discrete_bad==i)) for i in self.bad_dict])/discrete_bad.shape[0]\n",
    "        continuous_bad = X[np.array(y)=='否'][:,self.discrete_n:]\n",
    "        self.bad_mu,self.bad_var = np.mean(continuous_bad,axis=0).astype('float32'),np.var(continuous_bad,axis=0).astype('float32')\n",
    "\n",
    "    def predict(self, x):\n",
    "        x = np.array(x)\n",
    "        good_dic_idx = np.array([(x[:self.discrete_n]==i).any() for i in self.good_dict])#获取索引，然后直接取对应元素的概率值\n",
    "        bad_dic_idx = np.array([(x[:self.discrete_n]==i).any() for i in self.bad_dict])\n",
    "        p_good = self.good_p*np.cumprod(self.good_discrete_p[good_dic_idx])[-1] *np.cumprod(1.0 / (np.sqrt(2*np.pi*self.good_var)) * np.exp((-(np.array(x[self.discrete_n:],dtype='float32')-self.good_mu)**2/(2*self.good_var)).astype('float32')))[-1]\n",
    "        p_bad = self.bad_p*np.cumprod(self.bad_discrete_p[bad_dic_idx])[-1] *np.cumprod(1.0 / (np.sqrt(2*np.pi*self.bad_var)) * np.exp((-(np.array(x[self.discrete_n:],dtype='float32')-self.bad_mu)**2/(2*self.bad_var)).astype('float32')))[-1]\n",
    "        if p_good >= p_bad:\n",
    "            return p_good, p_bad, \"是\"\n",
    "        else:\n",
    "            return p_good, p_bad, \"否\""
   ]
  },
  {
   "cell_type": "code",
   "execution_count": 3,
   "metadata": {},
   "outputs": [
    {
     "name": "stdout",
     "output_type": "stream",
     "text": [
      "predict ressult:  (0.0594030662528787, 2.91058238612858e-05, '是')\n"
     ]
    }
   ],
   "source": [
    "lnb = NB()\n",
    "workbook = pd.read_csv(\"data/watermelon_3.csv\", encoding=\"gb18030\")\n",
    "X = workbook.values[:, 1:9]\n",
    "y = workbook.values[:, 9]\n",
    "lnb.train(X, y)\n",
    "label2 = lnb.predict([\"乌黑\", \"蜷缩\", \"浊响\", \"清晰\", \"凹陷\", \"硬滑\", 0.697, 0.460]) #测2\n",
    "print (\"predict ressult: \", label2)"
   ]
  }
 ],
 "metadata": {
  "kernelspec": {
   "display_name": "Python 3",
   "language": "python",
   "name": "python3"
  },
  "language_info": {
   "codemirror_mode": {
    "name": "ipython",
    "version": 3
   },
   "file_extension": ".py",
   "mimetype": "text/x-python",
   "name": "python",
   "nbconvert_exporter": "python",
   "pygments_lexer": "ipython3",
   "version": "3.7.4"
  }
 },
 "nbformat": 4,
 "nbformat_minor": 2
}
