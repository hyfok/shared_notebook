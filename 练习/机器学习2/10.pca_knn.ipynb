{
 "cells": [
  {
   "cell_type": "code",
   "execution_count": 19,
   "metadata": {},
   "outputs": [],
   "source": [
    "# 实现pca+knn，完成不同维数、不同k值下knn的性能分析\n",
    "\n",
    "import numpy as np\n",
    "import matplotlib.pyplot as plt\n",
    "from sklearn import datasets\n",
    "from sklearn.model_selection import train_test_split\n",
    "from sklearn.decomposition import PCA\n",
    "from sklearn.neighbors import KNeighborsClassifier\n",
    "from sklearn.model_selection import GridSearchCV\n",
    "%matplotlib inline\n",
    "plt.style.use('ggplot')"
   ]
  },
  {
   "cell_type": "code",
   "execution_count": 20,
   "metadata": {},
   "outputs": [
    {
     "name": "stdout",
     "output_type": "stream",
     "text": [
      "number of instance:  1797\n",
      "number of dimension:  64\n"
     ]
    },
    {
     "data": {
      "image/png": "[encoded data removed]",
      "text/plain": [
       "<Figure size 432x288 with 4 Axes>"
      ]
     },
     "metadata": {},
     "output_type": "display_data"
    }
   ],
   "source": [
    "digits = datasets.load_digits()\n",
    "_, axes = plt.subplots(1, 4)\n",
    "images_and_labels = list(zip(digits.images, digits.target))\n",
    "for ax, (image, label) in zip(axes[:], images_and_labels[:4]):\n",
    "    ax.set_axis_off()\n",
    "    ax.imshow(image, cmap=plt.cm.gray_r, interpolation='nearest')\n",
    "    ax.set_title('Training: %i' % label)\n",
    "n_samples = len(digits.images)\n",
    "data = digits.images.reshape((n_samples, -1))\n",
    "print('number of instance: ', data.shape[0])\n",
    "print('number of dimension: ', data.shape[1])"
   ]
  },
  {
   "cell_type": "markdown",
   "metadata": {},
   "source": [
    "未使用PCA降维的结果，knn搜索最优n"
   ]
  },
  {
   "cell_type": "code",
   "execution_count": 59,
   "metadata": {},
   "outputs": [
    {
     "name": "stdout",
     "output_type": "stream",
     "text": [
      "GridSearchCV交叉验证网格搜索字典获得的最好参数组合 {'n_neighbors': 3}\n",
      " \n",
      "GridSearchCV交叉验证网格搜索获得的最好估计器,在测试集上做交叉验证的平均得分 0.9487750556792873\n",
      " \n",
      "GridSearchCV交叉验证网格搜索获得的最好估计器,在测试集上的得分 0.9632925472747497\n"
     ]
    }
   ],
   "source": [
    "X_train, X_test, y_train, y_test = train_test_split(\n",
    "    data, digits.target, test_size=0.5, shuffle=False)\n",
    "\n",
    "grid_search_knn = GridSearchCV(knn, knn_param_grid, cv=5, iid=True) #5折交叉验证\n",
    "grid_search_knn.fit(X_train, y_train)\n",
    "print('GridSearchCV交叉验证网格搜索字典获得的最好参数组合',grid_search_knn.best_params_)\n",
    "print(' ')\n",
    "print('GridSearchCV交叉验证网格搜索获得的最好估计器,在测试集上做交叉验证的平均得分',grid_search_knn.best_score_)#?????   \n",
    "print(' ')\n",
    "print('GridSearchCV交叉验证网格搜索获得的最好估计器,在测试集上的得分',grid_search_knn.score(X_test, y_test))"
   ]
  },
  {
   "cell_type": "markdown",
   "metadata": {},
   "source": [
    "使用PCA,交叉验证网格搜索最优参数"
   ]
  },
  {
   "cell_type": "code",
   "execution_count": 50,
   "metadata": {},
   "outputs": [],
   "source": [
    "#交叉验证网格搜索最优参数\n",
    "knn_param_grid = {'n_neighbors': [3, 5, 7, 9, 11]}\n",
    "knn = KNeighborsClassifier()\n",
    "grid_search_knn = GridSearchCV(knn, knn_param_grid, cv=5, iid=True) #5折交叉验证\n",
    "n_components = [10,15,20,25,30,35,40]\n",
    "scores = np.zeros(len(n_components))\n",
    "best_n = np.zeros(len(n_components))\n",
    "for i in range(len(n_components)):\n",
    "    pca = PCA(n_components=n_components[i]).fit(X_train)\n",
    "    X_train_pca = pca.transform(X_train)\n",
    "    X_test_pca = pca.transform(X_test)\n",
    "    grid_search_knn.fit(X_train_pca, y_train)\n",
    "    scores[i] = grid_search_knn.score(X_test_pca, y_test)\n",
    "    best_n[i] = grid_search_knn.best_params_['n_neighbors']"
   ]
  },
  {
   "cell_type": "code",
   "execution_count": 51,
   "metadata": {},
   "outputs": [
    {
     "data": {
      "text/plain": [
       "(array([0.93882091, 0.95328142, 0.96106785, 0.95773081, 0.96329255,\n",
       "        0.9621802 , 0.9621802 ]), array([3., 5., 3., 5., 3., 3., 3.]))"
      ]
     },
     "execution_count": 51,
     "metadata": {},
     "output_type": "execute_result"
    }
   ],
   "source": [
    "scores,best_n"
   ]
  },
  {
   "cell_type": "code",
   "execution_count": 56,
   "metadata": {},
   "outputs": [
    {
     "name": "stdout",
     "output_type": "stream",
     "text": [
      "pca: 30 n: 3.0 is the best score: 0.9632925472747497\n"
     ]
    },
    {
     "data": {
      "image/png": "[encoded data removed]",
      "text/plain": [
       "<Figure size 432x288 with 1 Axes>"
      ]
     },
     "metadata": {},
     "output_type": "display_data"
    }
   ],
   "source": [
    "plt.xticks(n_components, zip(n_components,best_n))\n",
    "plt.ylim(0.93, 0.98)\n",
    "plt.bar(n_components,scores,width=3)\n",
    "plt.xlabel('(pca,n)')\n",
    "idx = np.where(scores==scores.max())[0][0]\n",
    "print('pca:',n_components[idx],'n:',best_n[idx],'is the best score:',scores.max())"
   ]
  },
  {
   "cell_type": "code",
   "execution_count": 68,
   "metadata": {},
   "outputs": [
    {
     "data": {
      "image/png": "[encoded data removed]",
      "text/plain": [
       "<Figure size 432x288 with 4 Axes>"
      ]
     },
     "metadata": {},
     "output_type": "display_data"
    }
   ],
   "source": [
    "knn = KNeighborsClassifier(n_neighbors=int(best_n[idx]))\n",
    "pca = PCA(n_components=n_components[idx]).fit(X_train)\n",
    "X_train_pca = pca.transform(X_train)\n",
    "X_test_pca = pca.transform(X_test)\n",
    "knn.fit(X_train_pca, y_train)\n",
    "predicted = knn.predict(X_test_pca)\n",
    "images_and_predictions = list(zip(digits.images[n_samples // 2:], predicted))\n",
    "_, axes = plt.subplots(1, 4)\n",
    "for ax, (image, prediction) in zip(axes[:], images_and_predictions[:4]):\n",
    "    ax.set_axis_off()\n",
    "    ax.imshow(image, cmap=plt.cm.gray_r, interpolation='nearest')\n",
    "    ax.set_title('Prediction: %i' % prediction)"
   ]
  }
 ],
 "metadata": {
  "kernelspec": {
   "display_name": "Python 3",
   "language": "python",
   "name": "python3"
  },
  "language_info": {
   "codemirror_mode": {
    "name": "ipython",
    "version": 3
   },
   "file_extension": ".py",
   "mimetype": "text/x-python",
   "name": "python",
   "nbconvert_exporter": "python",
   "pygments_lexer": "ipython3",
   "version": "3.7.4"
  }
 },
 "nbformat": 4,
 "nbformat_minor": 2
}
