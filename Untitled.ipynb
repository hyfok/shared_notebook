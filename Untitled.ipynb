{
 "cells": [
  {
   "cell_type": "code",
   "execution_count": 2,
   "metadata": {},
   "outputs": [
    {
     "data": {
      "text/plain": [
       "'1.0.1'"
      ]
     },
     "execution_count": 2,
     "metadata": {},
     "output_type": "execute_result"
    }
   ],
   "source": [
    "import torch\n",
    "torch.__version__"
   ]
  },
  {
   "cell_type": "code",
   "execution_count": 539,
   "metadata": {},
   "outputs": [
    {
     "data": {
      "text/plain": [
       "tensor([1., 2.], requires_grad=True)"
      ]
     },
     "execution_count": 539,
     "metadata": {},
     "output_type": "execute_result"
    }
   ],
   "source": [
    "x = torch.tensor([1.0, 2.0], requires_grad=True)\n",
    "x"
   ]
  },
  {
   "cell_type": "code",
   "execution_count": 540,
   "metadata": {},
   "outputs": [
    {
     "data": {
      "text/plain": [
       "tensor([2., 4.], requires_grad=True)"
      ]
     },
     "execution_count": 540,
     "metadata": {},
     "output_type": "execute_result"
    }
   ],
   "source": [
    "y = torch.tensor([2.0, 4.0], requires_grad=True)\n",
    "y"
   ]
  },
  {
   "cell_type": "code",
   "execution_count": 541,
   "metadata": {},
   "outputs": [
    {
     "data": {
      "text/plain": [
       "tensor(10., grad_fn=<AddBackward0>)"
      ]
     },
     "execution_count": 541,
     "metadata": {},
     "output_type": "execute_result"
    }
   ],
   "source": [
    "z = sum(x * y)\n",
    "z"
   ]
  },
  {
   "cell_type": "code",
   "execution_count": 538,
   "metadata": {},
   "outputs": [
    {
     "name": "stdout",
     "output_type": "stream",
     "text": [
      "tensor([2., 4.])\n",
      "tensor([1., 2.])\n"
     ]
    }
   ],
   "source": [
    "z.backward()\n",
    "print(x.grad)\n",
    "print(y.grad)"
   ]
  },
  {
   "cell_type": "code",
   "execution_count": 1,
   "metadata": {},
   "outputs": [],
   "source": [
    "import numpy as np\n",
    "import matplotlib.pylab as plt\n",
    "plt.style.use(\"ggplot\")"
   ]
  },
  {
   "cell_type": "code",
   "execution_count": 552,
   "metadata": {},
   "outputs": [],
   "source": [
    "X = torch.tensor(np.random.randint(0,10,size=(10,1)).astype('float32'),requires_grad=True)\n",
    "T = -X**2 + 5\n",
    "W1 = torch.rand((1,6),requires_grad=True) \n",
    "B1 = torch.rand(6,requires_grad=True) \n",
    "W2 = torch.rand((6,1),requires_grad=True)\n",
    "B2 = torch.rand(1,requires_grad=True)\n",
    "def f(X, T):\n",
    "    Y = torch.nn.Sigmoid()(X.mm(W1)+B1)\n",
    "    Z = Y.mm(W2)+B2\n",
    "    L = sum(abs(Z-T))\n",
    "    return Z,L"
   ]
  },
  {
   "cell_type": "code",
   "execution_count": 553,
   "metadata": {},
   "outputs": [],
   "source": [
    "for i in range(1000):\n",
    "    Z,L = f(X, T)\n",
    "    optm=torch.optim.SGD([W1,W2,B1,B2], lr=0.01)\n",
    "    optm.zero_grad()\n",
    "    L.backward(retain_graph=True)\n",
    "    optm.step()"
   ]
  },
  {
   "cell_type": "code",
   "execution_count": 554,
   "metadata": {},
   "outputs": [],
   "source": [
    "x = X.detach().numpy().reshape(-1)\n",
    "t = -x ** 2 + 5\n",
    "z,_ = f(X,T)\n",
    "z = z.detach().numpy().reshape(-1)"
   ]
  },
  {
   "cell_type": "code",
   "execution_count": 556,
   "metadata": {},
   "outputs": [
    {
     "data": {
      "text/plain": [
       "(tensor([[  2.3166],\n",
       "         [ -9.8142],\n",
       "         [-39.7734],\n",
       "         [-58.6821],\n",
       "         [-53.8414],\n",
       "         [ -2.9862],\n",
       "         [-53.8414],\n",
       "         [-57.8773],\n",
       "         [-57.8773],\n",
       "         [  1.5643]], grad_fn=<AddBackward0>),\n",
       " tensor([52.4669], grad_fn=<AddBackward0>))"
      ]
     },
     "execution_count": 556,
     "metadata": {},
     "output_type": "execute_result"
    }
   ],
   "source": [
    "f(X,T)"
   ]
  },
  {
   "cell_type": "code",
   "execution_count": 557,
   "metadata": {},
   "outputs": [
    {
     "data": {
      "text/plain": [
       "[<matplotlib.lines.Line2D at 0x25529853408>]"
      ]
     },
     "execution_count": 557,
     "metadata": {},
     "output_type": "execute_result"
    },
    {
     "data": {
      "image/png": "[encoded data removed]",
      "text/plain": [
       "<Figure size 432x288 with 1 Axes>"
      ]
     },
     "metadata": {},
     "output_type": "display_data"
    }
   ],
   "source": [
    "plt.plot(x[np.argsort(x)],z[np.argsort(x)])\n",
    "plt.plot(x[np.argsort(x)],t[np.argsort(x)])"
   ]
  },
  {
   "cell_type": "code",
   "execution_count": 69,
   "metadata": {},
   "outputs": [
    {
     "data": {
      "text/plain": [
       "tensor([[0.5275, 0.2282, 0.7651, 0.9210, 0.9673, 0.1382, 0.9200, 0.2166, 0.8873,\n",
       "         0.9330],\n",
       "        [0.6183, 0.8712, 0.4045, 0.2455, 0.9239, 0.6417, 0.1555, 0.2811, 0.3383,\n",
       "         0.0766],\n",
       "        [0.8450, 0.2819, 0.5331, 0.1077, 0.2460, 0.8926, 0.9379, 0.6774, 0.2821,\n",
       "         0.7461],\n",
       "        [0.2926, 0.4019, 0.2898, 0.1795, 0.2045, 0.7383, 0.2374, 0.9717, 0.6114,\n",
       "         0.4960],\n",
       "        [0.2019, 0.8828, 0.1676, 0.7955, 0.5694, 0.2882, 0.8816, 0.1310, 0.0839,\n",
       "         0.9057],\n",
       "        [0.4738, 0.4386, 0.3249, 0.3660, 0.1943, 0.7559, 0.1572, 0.9317, 0.9644,\n",
       "         0.8973],\n",
       "        [0.8368, 0.8616, 0.1519, 0.8341, 0.2009, 0.1536, 0.9677, 0.5111, 0.8478,\n",
       "         0.0445],\n",
       "        [0.5475, 0.7734, 0.5777, 0.5540, 0.4458, 0.7153, 0.0209, 0.8197, 0.4374,\n",
       "         0.2156],\n",
       "        [0.7208, 0.7648, 0.0318, 0.5849, 0.5973, 0.3543, 0.9463, 0.6971, 0.8014,\n",
       "         0.7067],\n",
       "        [0.6563, 0.1580, 0.9883, 0.5556, 0.5229, 0.8389, 0.2947, 0.4248, 0.5310,\n",
       "         0.0663]], requires_grad=True)"
      ]
     },
     "execution_count": 69,
     "metadata": {},
     "output_type": "execute_result"
    }
   ],
   "source": [
    "    with torch.no_grad():\n",
    "        W1 = W1 - learning_rate * W1.grad\n",
    "        b1 = B1 - learning_rate * B1.grad\n",
    "        W2 = W2 - learning_rate * W2.grad\n",
    "        B2 = B2 - learning_rate * B2.grad"
   ]
  }
 ],
 "metadata": {
  "kernelspec": {
   "display_name": "Python 3",
   "language": "python",
   "name": "python3"
  },
  "language_info": {
   "codemirror_mode": {
    "name": "ipython",
    "version": 3
   },
   "file_extension": ".py",
   "mimetype": "text/x-python",
   "name": "python",
   "nbconvert_exporter": "python",
   "pygments_lexer": "ipython3",
   "version": "3.7.4"
  }
 },
 "nbformat": 4,
 "nbformat_minor": 2
}
